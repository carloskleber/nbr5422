{
 "cells": [
  {
   "cell_type": "markdown",
   "metadata": {},
   "source": [
    "# Projeto de geometria de torre 230 kV\n",
    "Comparação entre critérios de norma"
   ]
  },
  {
   "cell_type": "code",
   "execution_count": 3,
   "metadata": {},
   "outputs": [],
   "source": [
    "import numpy as np\n",
    "import matplotlib.pyplot as plt\n",
    "from matplotlib import patches\n",
    "from tabulate import tabulate\n",
    "from math import degrees, radians, sin, cos, sqrt, exp\n",
    "from IPython.display import HTML, display\n",
    "from normaslt import types, nbr5422, nbr1985, iec\n",
    "from normaslt.geral import plot_dimension"
   ]
  },
  {
   "cell_type": "code",
   "execution_count": 10,
   "metadata": {},
   "outputs": [],
   "source": [
    "# Dados de projeto\n",
    "v = 230.\n",
    "vmax = 242\n",
    "ftmo = vmax/v\n",
    "# Vão\n",
    "l = 450\n",
    "vpvm = 0.7\n",
    "# Fatores de gaps frente lenta\n",
    "# \"condutor-estrutura lateral\"\n",
    "ht = 20.\n",
    "d = 2.\n",
    "s = 1.5\n",
    "kgfn = 1.45 + 0.35*(exp(-8. * s/d)-0.2) # Pegando cálculo na ref. Cigre original\n",
    "kgff = 1.50 # \"barramentos suportados por isolador\", alpha 0.5\n",
    "# Sobretensões (pu)\n",
    "muft = 2.5\n",
    "muff = 4.3\n",
    "sigma = 0.1\n",
    "# Suportabilidades: frequência industrial, frente lenta (positiva/ negatica), frente rápida\n",
    "U60s = 760\n",
    "U60m = 540\n",
    "Ulp = 1080\n",
    "Uln = 1160\n",
    "Ur = 1265\n",
    "# Vento de projeto (50 anos, 10 min)\n",
    "Vp = 50.\n",
    "cv = 0.16"
   ]
  },
  {
   "cell_type": "code",
   "execution_count": 17,
   "metadata": {},
   "outputs": [
    {
     "name": "stdout",
     "output_type": "stream",
     "text": [
      "0.37191742740278033 0.5980449221577675\n"
     ]
    }
   ],
   "source": [
    "# Isolamento na tensão máxima frequência industrial\n",
    "kg = 1.35 * kgfn - 0.35 * kgfn**2\n",
    "dft = nbr5422.espacFTFreqFund(Us=v, Ftmo=ftmo, kaff=1., kgff=kg, zff=0.)\n",
    "kg = 1.35 * kgff - 0.35 * kgff**2\n",
    "dff = nbr5422.espacFFFreqFund(Us=v, Ftmo=ftmo, kaff=1., kgff=kg, zff=0.)\n",
    "Vp\n",
    "print(dft, dff)"
   ]
  },
  {
   "cell_type": "code",
   "execution_count": 16,
   "metadata": {},
   "outputs": [
    {
     "name": "stdout",
     "output_type": "stream",
     "text": [
      "1.4391658721303087 1.3164520151685635\n"
     ]
    }
   ],
   "source": [
    "# Isolamento a sobretensões de frente lenta\n",
    "dft = nbr5422.espacFTFrenteLenta(Us=v, Kcs=1.48, Fsfl=2.5, kafl=0.93, kg=kgfn, zfl=0.06)\n",
    "dff = nbr5422.espacFFFrenteLenta(Us=v, Kcs=1.48, Fsfl=2.5, kafl=0.93, kg=kgff, zfl=0.06, alpha=0.33)\n",
    "print(dft, dff)"
   ]
  },
  {
   "cell_type": "code",
   "execution_count": null,
   "metadata": {},
   "outputs": [],
   "source": [
    "# Isolamento a sobretensões de frente rápida\n"
   ]
  },
  {
   "cell_type": "code",
   "execution_count": 2,
   "metadata": {},
   "outputs": [
    {
     "data": {
      "image/png": "[encoded data removed]",
      "text/plain": [
       "<Figure size 640x480 with 1 Axes>"
      ]
     },
     "metadata": {},
     "output_type": "display_data"
    }
   ],
   "source": [
    "# Teste plotagem - torre 230 kV circuito duplo\n",
    "\n",
    "# Posição das fases\n",
    "xr = 3\n",
    "x1a = -xr\n",
    "x2a = -xr\n",
    "x3a = -xr\n",
    "x1b = xr\n",
    "x2b = xr\n",
    "x3b = xr\n",
    "# Alturas relativas à fase mais baixa\n",
    "y1a = 0.\n",
    "y2a = 3.\n",
    "y3a = 6.\n",
    "y1b = 0.\n",
    "y2b = 3.\n",
    "y3b = 6.\n",
    "hm = 1.5 # Altura da ancoragem do isolador de suspensao em relacao ao do line post\n",
    "alfa = radians(10.) # Angulo vertical do isolador line post\n",
    "lc = 0.2 # Comprimento da ferragem (m)\n",
    "f = 10. # Flecha (m)\n",
    "h = 10. # clearance (m)\n",
    "# Ângulos de balanço\n",
    "ang1 = radians(25.)\n",
    "ang2 = radians(45.)\n",
    "hbase = h + f + lc\n",
    "y1t = y1a+hbase\n",
    "y2t = y2a+hbase\n",
    "y3t = y3a+hbase\n",
    "\n",
    "# Estrutura\n",
    "ltsup = 1.2\n",
    "ltinf = 1.2\n",
    "ht = y3t + hm + 0.5\n",
    "\n",
    "plt.figure()\n",
    "# Estrutura metalica\n",
    "plt.plot([-ltinf/2, -ltsup/2], [0, ht],'k-')\n",
    "plt.plot([ltinf/2, ltsup/2], [0, ht],'k-')\n",
    "plt.plot([-ltsup/2, ltsup/2], [ht, ht],'k-')\n",
    "# Misulas\n",
    "plt.plot([-ltsup/2, x1a], [y1t, y1t],'g-', linewidth=3)\n",
    "plt.plot([-ltsup/2, x2a], [y2t, y2t],'g-', linewidth=3)\n",
    "plt.plot([-ltsup/2, x3a], [y3t, y3t],'g-', linewidth=3)\n",
    "plt.plot([-ltsup/2, x1a], [y1t+hm, y1t],'g-', linewidth=3)\n",
    "plt.plot([-ltsup/2, x2a], [y2t+hm, y2t],'g-', linewidth=3)\n",
    "plt.plot([-ltsup/2, x3a], [y3t+hm, y3t],'g-', linewidth=3)\n",
    "# Solo\n",
    "plt.plot([-4.5, 4.5], [0, 0],'k-', linewidth=0.5)\n",
    "plt.plot([x1a, x1a], [y1t, y1t-lc],'bo-')\n",
    "plt.plot([x2a, x2a], [y2t, y2t-lc],'bo-')\n",
    "plt.plot([x3a, x3a], [y3t, y3t-lc],'bo-')\n",
    "plt.plot([x1a, x1a], [y1t-0.2, y1t-lc+0.2],'r-')\n",
    "plt.plot([x2a, x2a], [y2t-0.2, y2t-lc+0.2],'r-')\n",
    "plt.plot([x3a, x3a], [y3t-0.2, y3t-lc+0.2],'r-')\n",
    "plt.plot([x1a, x1a+lc*sin(ang1)], [y1t, y1t-lc*cos(ang1)],'ro-')\n",
    "plt.plot([x2a, x2a+lc*sin(ang1)], [y2t, y2t-lc*cos(ang1)],'ro-')\n",
    "plt.plot([x3a, x3a+lc*sin(ang1)], [y3t, y3t-lc*cos(ang1)],'ro-')\n",
    "plt.gca().add_patch(patches.Arc((x1a, y1t), 2*lc, 2*lc, theta1=-90., theta2=degrees(ang1)-90.,lw=0.5,color='r'))\n",
    "plt.gca().add_patch(patches.Arc((x2a, y2t), 2*lc, 2*lc, theta1=-90., theta2=degrees(ang1)-90.,lw=0.5,color='r'))\n",
    "plt.gca().add_patch(patches.Arc((x3a, y3t), 2*lc, 2*lc, theta1=-90., theta2=degrees(ang1)-90.,lw=0.5,color='r'))\n",
    "# Espaçamentos\n",
    "dist1 = 1.\n",
    "dist2 = 2.\n",
    "plt.gca().add_patch(patches.Arc((x1a+lc*sin(ang1), y1t-lc*cos(ang1)), 2*dist1, 2*dist1, theta1=-90., theta2=90.,lw=0.5,color='r'))\n",
    "plt.gca().add_patch(patches.Arc((x2a+lc*sin(ang1), y2t-lc*cos(ang1)), 2*dist1, 2*dist1, theta1=-90., theta2=90.,lw=0.5,color='r'))\n",
    "plt.gca().add_patch(patches.Arc((x3a+lc*sin(ang1), y3t-lc*cos(ang1)), 2*dist1, 2*dist1, theta1=-90., theta2=90.,lw=0.5,color='r'))\n",
    "\n",
    "# teste de cota\n",
    "plot_dimension(plt, (x1a,y1t-lc), (x2a,y2t-lc), offset=1)\n",
    "plot_dimension(plt, (x2a,y2t-lc), (x3a,y3t-lc), offset=1)\n",
    "plot_dimension(plt, (x1a,y1t), (-ltsup/2,y1t), offset=-1.5)\n",
    "plt.axis('equal')\n",
    "plt.gca().set_ylim(18, ht+0.5)\n",
    "plt.show()"
   ]
  },
  {
   "cell_type": "code",
   "execution_count": 3,
   "metadata": {},
   "outputs": [
    {
     "data": {
      "image/png": "[encoded data removed]",
      "text/plain": [
       "<Figure size 640x480 with 1 Axes>"
      ]
     },
     "metadata": {},
     "output_type": "display_data"
    }
   ],
   "source": [
    "# Meio do vão\n",
    "y1mv = y1a + h\n",
    "y2mv = y2a + h\n",
    "y3mv = y3a + h\n",
    "l = f + lc\n",
    "plt.figure()\n",
    "plt.plot([x1a, x1a+l*sin(ang1)], [y1t, y1t-l*cos(ang1)],'ro-')\n",
    "plt.plot([x2a, x2a+l*sin(ang1)], [y2t, y2t-l*cos(ang1)],'ro-')\n",
    "plt.plot([x3a, x3a+l*sin(ang1)], [y3t, y3t-l*cos(ang1)],'ro-')\n",
    "plt.gca().add_patch(patches.Arc((x1a, y1t), 2*l, 2*l, theta1=-90., theta2=degrees(ang1)-90.,lw=0.5,color='r'))\n",
    "plt.gca().add_patch(patches.Arc((x2a, y2t), 2*l, 2*l, theta1=-90., theta2=degrees(ang1)-90.,lw=0.5,color='r'))\n",
    "plt.gca().add_patch(patches.Arc((x3a, y3t), 2*l, 2*l, theta1=-90., theta2=degrees(ang1)-90.,lw=0.5,color='r'))\n",
    "plt.axis('equal')\n",
    "plt.show()"
   ]
  },
  {
   "cell_type": "code",
   "execution_count": null,
   "metadata": {},
   "outputs": [],
   "source": []
  }
 ],
 "metadata": {
  "kernelspec": {
   "display_name": ".venv",
   "language": "python",
   "name": "python3"
  },
  "language_info": {
   "codemirror_mode": {
    "name": "ipython",
    "version": 3
   },
   "file_extension": ".py",
   "mimetype": "text/x-python",
   "name": "python",
   "nbconvert_exporter": "python",
   "pygments_lexer": "ipython3",
   "version": "3.13.2"
  }
 },
 "nbformat": 4,
 "nbformat_minor": 4
}
