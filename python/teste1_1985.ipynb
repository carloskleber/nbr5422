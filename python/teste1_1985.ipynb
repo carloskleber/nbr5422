{
 "cells": [
  {
   "attachments": {},
   "cell_type": "markdown",
   "metadata": {},
   "source": [
    "# NBR 5422:1985 - teste metodologia em Python/ Jupyter\n",
    "## Parâmetros iniciais\n",
    "\n",
    "As fórmulas estão implementadas em bibliotecas"
   ]
  },
  {
   "cell_type": "code",
   "execution_count": 1,
   "metadata": {},
   "outputs": [],
   "source": [
    "from normaslt import types, nbr1985"
   ]
  },
  {
   "attachments": {},
   "cell_type": "markdown",
   "metadata": {},
   "source": [
    "## Caso teste"
   ]
  },
  {
   "cell_type": "code",
   "execution_count": 2,
   "metadata": {},
   "outputs": [],
   "source": [
    "Us = types.tensao._362kV\n",
    "rugTerreno = types.rug.B\n",
    "alt = 100\n",
    "dra = 0.9\n",
    "h = 11\n",
    "regiao = types.regiao.SE\n",
    "hmax = 0.\n",
    "L = 450.\n",
    "hmed = 25.\n",
    "dcond = 2e-2\n",
    "VrB = 15.\n",
    "obstaculo = types.obs.AGUAS_NAVEGAVEIS"
   ]
  },
  {
   "cell_type": "code",
   "execution_count": 6,
   "metadata": {},
   "outputs": [
    {
     "data": {
      "text/plain": [
       "1.2318041634830936"
      ]
     },
     "execution_count": 6,
     "metadata": {},
     "output_type": "execute_result"
    }
   ],
   "source": [
    "nbr1985.massaAr(alt, 10)"
   ]
  },
  {
   "cell_type": "code",
   "execution_count": null,
   "metadata": {},
   "outputs": [],
   "source": []
  }
 ],
 "metadata": {
  "kernelspec": {
   "display_name": "Python 3",
   "language": "python",
   "name": "python3"
  },
  "language_info": {
   "codemirror_mode": {
    "name": "ipython",
    "version": 3
   },
   "file_extension": ".py",
   "mimetype": "text/x-python",
   "name": "python",
   "nbconvert_exporter": "python",
   "pygments_lexer": "ipython3",
   "version": "3.11.3"
  },
  "orig_nbformat": 4
 },
 "nbformat": 4,
 "nbformat_minor": 2
}
