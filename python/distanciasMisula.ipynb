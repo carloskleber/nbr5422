{
 "cells": [
  {
   "attachments": {},
   "cell_type": "markdown",
   "metadata": {},
   "source": [
    "# Estudo distâncias de isolamento - Misula"
   ]
  },
  {
   "cell_type": "code",
   "execution_count": 1,
   "metadata": {},
   "outputs": [],
   "source": [
    "from tabulate import tabulate\n",
    "from math import sqrt\n",
    "from IPython.display import HTML, display\n",
    "from normaslt import types, nbr5422, nbr1985, iec"
   ]
  },
  {
   "cell_type": "code",
   "execution_count": 2,
   "metadata": {},
   "outputs": [
    {
     "name": "stdout",
     "output_type": "stream",
     "text": [
      "0.4376582371914563 0.7337855487297367\n"
     ]
    }
   ],
   "source": [
    "# Isolamento na tensão máxima\n",
    "v = 230\n",
    "ftmo = 242./230.\n",
    "dft = nbr5422.espacFTFreqFund(Us=v, Ftmo=ftmo, kaff=1., kgff=1., zff=0.) \n",
    "dff = nbr5422.espacFFFreqFund(Us=v, Ftmo=ftmo, kaff=1., kgff=1., zff=0.)\n",
    "print(dft, dff)"
   ]
  },
  {
   "cell_type": "code",
   "execution_count": 3,
   "metadata": {},
   "outputs": [
    {
     "name": "stdout",
     "output_type": "stream",
     "text": [
      "1.4586900228940334 2.0904674359329913\n"
     ]
    }
   ],
   "source": [
    "# Isolamento a surtos de manobra\n",
    "dft = nbr5422.espacFTFrenteLenta(Us=v, Kcs=1.48, Fsfl=2.5, kafl=0.93, kg=1.35, zfl=0.06)\n",
    "dff = nbr5422.espacFFFrenteLenta(Us=v, Kcs=1.48, Fsfl=2.5, kafl=0.93, kg=1.35, zfl=0.06, alpha=0.33)\n",
    "print(dft, dff)"
   ]
  },
  {
   "attachments": {},
   "cell_type": "markdown",
   "metadata": {},
   "source": [
    "## Metodologia IEC\n",
    "Cálculo da máxima tensão de pico"
   ]
  },
  {
   "cell_type": "code",
   "execution_count": 4,
   "metadata": {},
   "outputs": [
    {
     "name": "stdout",
     "output_type": "stream",
     "text": [
      "246.74347225837874 0.5389305833696151 427.37223038747385 0.9178460571146069\n"
     ]
    }
   ],
   "source": [
    "# Isolamento na tensão máxima\n",
    "vmax=v * ftmo *sqrt(2)/sqrt(3)\n",
    "sigma=0.03\n",
    "v50=vmax/(1-3*sigma)\n",
    "fca=0.88\n",
    "v50rft=v50/fca\n",
    "dft=iec.espacPowerFreq(u50rp=v50rft, k=1.) \n",
    "vmax=242.*sqrt(2)\n",
    "v50=vmax/(1-3*sigma)\n",
    "v50rff=v50/fca\n",
    "dff=iec.espacPowerFreq(u50rp=v50rff, k=1.) \n",
    "print(v50rft, dft, v50rff, dff)"
   ]
  },
  {
   "cell_type": "code",
   "execution_count": 5,
   "metadata": {},
   "outputs": [
    {
     "name": "stdout",
     "output_type": "stream",
     "text": [
      "469.48553403344255 552.3359223922854 1.0544122118374943\n"
     ]
    }
   ],
   "source": [
    "# Isolamento a surtos de manobra\n",
    "fs=2.5\n",
    "sigma = 0.05\n",
    "fca=0.93\n",
    "vmax= v * fs * sqrt(2)/sqrt(3)\n",
    "v50=vmax / (1 - 3 * sigma)\n",
    "v50r=v50/fca\n",
    "k=1.5\n",
    "depri=8 * v50r/ (3400. * k - v50r)\n",
    "print(vmax, v50, depri)"
   ]
  },
  {
   "cell_type": "code",
   "execution_count": null,
   "metadata": {},
   "outputs": [],
   "source": []
  }
 ],
 "metadata": {
  "kernelspec": {
   "display_name": "Python 3",
   "language": "python",
   "name": "python3"
  },
  "language_info": {
   "codemirror_mode": {
    "name": "ipython",
    "version": 3
   },
   "file_extension": ".py",
   "mimetype": "text/x-python",
   "name": "python",
   "nbconvert_exporter": "python",
   "pygments_lexer": "ipython3",
   "version": "3.11.3"
  },
  "orig_nbformat": 4
 },
 "nbformat": 4,
 "nbformat_minor": 2
}
