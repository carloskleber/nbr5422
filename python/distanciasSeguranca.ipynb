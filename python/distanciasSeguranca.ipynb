{
 "cells": [
  {
   "attachments": {},
   "cell_type": "markdown",
   "metadata": {},
   "source": [
    "# Comparação entre distâncias de isolamento"
   ]
  },
  {
   "cell_type": "code",
   "execution_count": 1,
   "metadata": {},
   "outputs": [],
   "source": [
    "from tabulate import tabulate\n",
    "from math import sqrt\n",
    "from IPython.display import HTML, display\n",
    "from normaslt import types, nbr5422, nbr1985, iec, en"
   ]
  },
  {
   "cell_type": "code",
   "execution_count": 2,
   "metadata": {},
   "outputs": [
    {
     "data": {
      "text/plain": [
       "20.649832888830474"
      ]
     },
     "execution_count": 2,
     "metadata": {},
     "output_type": "execute_result"
    }
   ],
   "source": [
    "obs = types.obs.LINHA_TRANSMISSAO\n",
    "v1 = 550.\n",
    "v2 = 69.\n",
    "dra=0.9\n",
    "h=nbr5422.umidAbs(dra=dra, t=25.)\n",
    "nbr1985.distVertFT(du=v1, obs=obs)\n",
    "h"
   ]
  },
  {
   "cell_type": "code",
   "execution_count": 3,
   "metadata": {},
   "outputs": [
    {
     "data": {
      "text/plain": [
       "nan"
      ]
     },
     "execution_count": 3,
     "metadata": {},
     "output_type": "execute_result"
    }
   ],
   "source": [
    "kg=nbr5422.fatorKgFFFrenteLenta(types.gap.CONDUTOR_CRUZADO)\n",
    "kcs=1.48 # risco 1e-6, 100 gaps em paralelo\n",
    "dff = nbr5422.espacFFFrenteLenta(Us=800., Kcs=kcs, Fsfl=2.4, kafl=0.95, kg=kg, alpha=0.33)\n",
    "dff"
   ]
  },
  {
   "cell_type": "code",
   "execution_count": 4,
   "metadata": {},
   "outputs": [
    {
     "data": {
      "text/plain": [
       "nan"
      ]
     },
     "execution_count": 4,
     "metadata": {},
     "output_type": "execute_result"
    }
   ],
   "source": [
    "# Cálculo do kafl real e ajuste do espaçamento\n",
    "kafl=nbr5422.fatorAtmFrenteLenta(dra=dra, h=h, d=dff)\n",
    "kafl\n",
    "dff = nbr5422.espacFFFrenteLenta(Us=v1, Kcs=kcs, Fsfl=2, kafl=kafl, kg=kg)\n",
    "dff"
   ]
  },
  {
   "attachments": {},
   "cell_type": "markdown",
   "metadata": {},
   "source": [
    "## Distâncias elétricas para circuitos\n",
    "NBR 5422 - Metodologia proposta"
   ]
  },
  {
   "cell_type": "code",
   "execution_count": 5,
   "metadata": {},
   "outputs": [
    {
     "name": "stderr",
     "output_type": "stream",
     "text": [
      "/home/ck/programas/nbr5422/python/normaslt/nbr5422.py:58: UserWarning: Distância calculada fora da validade do modelo: 14 m.\n",
      "  warn('Distância calculada fora da validade do modelo: %d m.' % d)\n",
      "/home/ck/programas/nbr5422/python/normaslt/nbr5422.py:58: UserWarning: Distância calculada fora da validade do modelo: 16 m.\n",
      "  warn('Distância calculada fora da validade do modelo: %d m.' % d)\n"
     ]
    },
    {
     "data": {
      "text/html": [
       "<h2>Método NBR 5422 proposto</h2>"
      ],
      "text/plain": [
       "<IPython.core.display.HTML object>"
      ]
     },
     "metadata": {},
     "output_type": "display_data"
    },
    {
     "data": {
      "text/html": [
       "<table>\n",
       "<thead>\n",
       "<tr><th style=\"text-align: right;\">  Vn</th><th style=\"text-align: right;\">   dftff</th><th style=\"text-align: right;\">   dftfl</th><th style=\"text-align: right;\">   dftfr</th><th style=\"text-align: right;\">   dffff</th><th style=\"text-align: right;\">    dfffl</th></tr>\n",
       "</thead>\n",
       "<tbody>\n",
       "<tr><td style=\"text-align: right;\">  69</td><td style=\"text-align: right;\">0.171899</td><td style=\"text-align: right;\">0.987253</td><td style=\"text-align: right;\">0.896417</td><td style=\"text-align: right;\">0.27712 </td><td style=\"text-align: right;\">  1.12074</td></tr>\n",
       "<tr><td style=\"text-align: right;\"> 138</td><td style=\"text-align: right;\">0.3147  </td><td style=\"text-align: right;\">1.22093 </td><td style=\"text-align: right;\">1.47012 </td><td style=\"text-align: right;\">0.517866</td><td style=\"text-align: right;\">  1.57342</td></tr>\n",
       "<tr><td style=\"text-align: right;\"> 230</td><td style=\"text-align: right;\">0.500343</td><td style=\"text-align: right;\">1.62072 </td><td style=\"text-align: right;\">1.91833 </td><td style=\"text-align: right;\">0.847074</td><td style=\"text-align: right;\">  2.47342</td></tr>\n",
       "<tr><td style=\"text-align: right;\"> 345</td><td style=\"text-align: right;\">0.733074</td><td style=\"text-align: right;\">2.3093  </td><td style=\"text-align: right;\">2.8775  </td><td style=\"text-align: right;\">1.28728 </td><td style=\"text-align: right;\"> 14.6664 </td></tr>\n",
       "<tr><td style=\"text-align: right;\"> 440</td><td style=\"text-align: right;\">0.930178</td><td style=\"text-align: right;\">2.35961 </td><td style=\"text-align: right;\">3.31674 </td><td style=\"text-align: right;\">1.68483 </td><td style=\"text-align: right;\"> 16.2586 </td></tr>\n",
       "<tr><td style=\"text-align: right;\"> 500</td><td style=\"text-align: right;\">1.1189  </td><td style=\"text-align: right;\">2.73542 </td><td style=\"text-align: right;\">3.61256 </td><td style=\"text-align: right;\">2.08706 </td><td style=\"text-align: right;\">nan      </td></tr>\n",
       "<tr><td style=\"text-align: right;\"> 765</td><td style=\"text-align: right;\">1.69285 </td><td style=\"text-align: right;\">3.83804 </td><td style=\"text-align: right;\">5.28886 </td><td style=\"text-align: right;\">3.44123 </td><td style=\"text-align: right;\">nan      </td></tr>\n",
       "</tbody>\n",
       "</table>"
      ],
      "text/plain": [
       "<IPython.core.display.HTML object>"
      ]
     },
     "metadata": {},
     "output_type": "display_data"
    }
   ],
   "source": [
    "vnom = [69., 138., 230., 345., 440., 500., 765.]\n",
    "vmax = [72.5, 145., 242., 362., 460., 550., 800.]\n",
    "fsfl = [3., 3., 3., 3., 2.4, 2.4, 2.]\n",
    "vfr = [500., 820., 1070., 1605., 1850., 2015., 2950.] # confirmar valor para 440 kV\n",
    "kg = 1.35\n",
    "ka = 0.95\n",
    "kcs = 1.48\n",
    "dftff = []\n",
    "dftfl = []\n",
    "dftfr = []\n",
    "dffff = []\n",
    "dfffl = []\n",
    "for vn, vm, vf, f in zip(vnom, vmax, vfr, fsfl):\n",
    "  ftmo=vm/vn\n",
    "  dftff.append(nbr5422.espacFTFreqFund(Us=vn, Ftmo=ftmo, kaff=ka, kgff=1.))\n",
    "  dftfl.append(nbr5422.espacFTFrenteLenta(Us=vn, Kcs=kcs, Fsfl=f, kafl=ka, kg=kg))\n",
    "  dftfr.append(nbr5422.espacFTFrenteRapida(ufr=vf, kafr=ka, kg=kg))\n",
    "  dffff.append(nbr5422.espacFFFreqFund(Us=vn, Ftmo=ftmo, kaff=ka, kgff=1.))\n",
    "  dfffl.append(nbr5422.espacFFFrenteLenta(Us=vn, Kcs=kcs, Fsfl=f, kafl=ka, kg=kg, alpha=0.33))\n",
    "\n",
    "table = zip(vnom, dftff, dftfl, dftfr, dffff, dfffl)\n",
    "display(HTML('<h2>Método NBR 5422 proposto</h2>'))\n",
    "display(HTML(tabulate(table, headers=['Vn', 'dftff', 'dftfl', 'dftfr', 'dffff', 'dfffl'], tablefmt='html')))"
   ]
  },
  {
   "attachments": {},
   "cell_type": "markdown",
   "metadata": {},
   "source": [
    "Metodologia IEC 2018"
   ]
  },
  {
   "cell_type": "code",
   "execution_count": 6,
   "metadata": {},
   "outputs": [
    {
     "data": {
      "text/html": [
       "<h2>Método IEC</h2>"
      ],
      "text/plain": [
       "<IPython.core.display.HTML object>"
      ]
     },
     "metadata": {},
     "output_type": "display_data"
    },
    {
     "data": {
      "text/html": [
       "<table>\n",
       "<thead>\n",
       "<tr><th style=\"text-align: right;\">  Vn</th><th style=\"text-align: right;\">   dftff</th><th style=\"text-align: right;\">   dftfl</th><th style=\"text-align: right;\">  dftfr</th><th style=\"text-align: right;\">   dffff</th><th style=\"text-align: right;\">    dfffl</th></tr>\n",
       "</thead>\n",
       "<tbody>\n",
       "<tr><td style=\"text-align: right;\">  69</td><td style=\"text-align: right;\">0.107816</td><td style=\"text-align: right;\">0.35027 </td><td style=\"text-align: right;\">1.02925</td><td style=\"text-align: right;\">0.172367</td><td style=\"text-align: right;\"> 0.641974</td></tr>\n",
       "<tr><td style=\"text-align: right;\"> 138</td><td style=\"text-align: right;\">0.195136</td><td style=\"text-align: right;\">0.756977</td><td style=\"text-align: right;\">1.68796</td><td style=\"text-align: right;\">0.315626</td><td style=\"text-align: right;\"> 1.47353 </td></tr>\n",
       "<tr><td style=\"text-align: right;\"> 230</td><td style=\"text-align: right;\">0.305405</td><td style=\"text-align: right;\">1.40297 </td><td style=\"text-align: right;\">2.20258</td><td style=\"text-align: right;\">0.501898</td><td style=\"text-align: right;\"> 2.97623 </td></tr>\n",
       "<tr><td style=\"text-align: right;\"> 345</td><td style=\"text-align: right;\">0.438598</td><td style=\"text-align: right;\">2.41422 </td><td style=\"text-align: right;\">3.30388</td><td style=\"text-align: right;\">0.735453</td><td style=\"text-align: right;\"> 5.75309 </td></tr>\n",
       "<tr><td style=\"text-align: right;\"> 440</td><td style=\"text-align: right;\">0.547279</td><td style=\"text-align: right;\">2.48428 </td><td style=\"text-align: right;\">3.80821</td><td style=\"text-align: right;\">0.933277</td><td style=\"text-align: right;\"> 5.96392 </td></tr>\n",
       "<tr><td style=\"text-align: right;\"> 500</td><td style=\"text-align: right;\">0.648054</td><td style=\"text-align: right;\">2.99442 </td><td style=\"text-align: right;\">4.14786</td><td style=\"text-align: right;\">1.1227  </td><td style=\"text-align: right;\"> 7.56884 </td></tr>\n",
       "<tr><td style=\"text-align: right;\"> 765</td><td style=\"text-align: right;\">0.937153</td><td style=\"text-align: right;\">4.38423 </td><td style=\"text-align: right;\">6.07255</td><td style=\"text-align: right;\">1.69885 </td><td style=\"text-align: right;\">12.5434  </td></tr>\n",
       "</tbody>\n",
       "</table>"
      ],
      "text/plain": [
       "<IPython.core.display.HTML object>"
      ]
     },
     "metadata": {},
     "output_type": "display_data"
    }
   ],
   "source": [
    "dftff = []\n",
    "dftfl = []\n",
    "dftfr = []\n",
    "dffff = []\n",
    "dfffl = []\n",
    "for vn, vm, vf, f in zip(vnom, vmax, vfr, fsfl):\n",
    "  ftmo=vm/vn\n",
    "  dftff.append(iec.espacPowerFreq(un=vn/sqrt(3), ftmo=ftmo, fca=ka, k=kg))\n",
    "  dftfl.append(iec.espacSlowFront(u50rp=vn/sqrt(3)*f, k=kg))\n",
    "  dftfr.append(iec.espacFastfront(u50rp=vf, k=kg))\n",
    "  dffff.append(iec.espacPowerFreq(un=vn, ftmo=ftmo, fca=ka, k=kg))\n",
    "  dfffl.append(iec.espacSlowFront(u50rp=vn*f, k=kg))\n",
    "\n",
    "table = zip(vnom, dftff, dftfl, dftfr, dffff, dfffl)\n",
    "display(HTML('<h2>Método IEC</h2>'))\n",
    "display(HTML(tabulate(table, headers=['Vn', 'dftff', 'dftfl', 'dftfr', 'dffff', 'dfffl'], tablefmt='html')))"
   ]
  },
  {
   "attachments": {},
   "cell_type": "markdown",
   "metadata": {},
   "source": [
    "Metodologia EN 2001"
   ]
  },
  {
   "cell_type": "code",
   "execution_count": 11,
   "metadata": {},
   "outputs": [
    {
     "data": {
      "text/html": [
       "<h2>Método EN</h2>"
      ],
      "text/plain": [
       "<IPython.core.display.HTML object>"
      ]
     },
     "metadata": {},
     "output_type": "display_data"
    },
    {
     "data": {
      "text/html": [
       "<table>\n",
       "<thead>\n",
       "<tr><th style=\"text-align: right;\">  Vn</th><th style=\"text-align: right;\">   dftff</th><th style=\"text-align: right;\">   dftfl</th><th style=\"text-align: right;\">   dftfr</th><th style=\"text-align: right;\">   dffff</th><th style=\"text-align: right;\">    dfffl</th><th style=\"text-align: right;\">  dfffr</th></tr>\n",
       "</thead>\n",
       "<tbody>\n",
       "<tr><td style=\"text-align: right;\">  69</td><td style=\"text-align: right;\">0.15016 </td><td style=\"text-align: right;\">0.40334 </td><td style=\"text-align: right;\">0.947158</td><td style=\"text-align: right;\">0.230764</td><td style=\"text-align: right;\"> 0.584905</td><td style=\"text-align: right;\">1.13659</td></tr>\n",
       "<tr><td style=\"text-align: right;\"> 138</td><td style=\"text-align: right;\">0.273126</td><td style=\"text-align: right;\">0.881514</td><td style=\"text-align: right;\">1.55334 </td><td style=\"text-align: right;\">0.426165</td><td style=\"text-align: right;\"> 1.32718 </td><td style=\"text-align: right;\">1.86401</td></tr>\n",
       "<tr><td style=\"text-align: right;\"> 230</td><td style=\"text-align: right;\">0.430978</td><td style=\"text-align: right;\">1.65985 </td><td style=\"text-align: right;\">2.02692 </td><td style=\"text-align: right;\">0.685742</td><td style=\"text-align: right;\"> 2.63645 </td><td style=\"text-align: right;\">2.4323 </td></tr>\n",
       "<tr><td style=\"text-align: right;\"> 345</td><td style=\"text-align: right;\">0.625875</td><td style=\"text-align: right;\">2.91725 </td><td style=\"text-align: right;\">3.04038 </td><td style=\"text-align: right;\">1.02561 </td><td style=\"text-align: right;\"> 4.98169 </td><td style=\"text-align: right;\">3.64845</td></tr>\n",
       "<tr><td style=\"text-align: right;\"> 440</td><td style=\"text-align: right;\">0.788511</td><td style=\"text-align: right;\">3.00591 </td><td style=\"text-align: right;\">3.50448 </td><td style=\"text-align: right;\">1.3269  </td><td style=\"text-align: right;\"> 5.15677 </td><td style=\"text-align: right;\">4.20538</td></tr>\n",
       "<tr><td style=\"text-align: right;\"> 500</td><td style=\"text-align: right;\">0.942285</td><td style=\"text-align: right;\">3.65697 </td><td style=\"text-align: right;\">3.81705 </td><td style=\"text-align: right;\">1.52906 </td><td style=\"text-align: right;\"> 6.47838 </td><td style=\"text-align: right;\">4.58046</td></tr>\n",
       "<tr><td style=\"text-align: right;\"> 765</td><td style=\"text-align: right;\">1.39948 </td><td style=\"text-align: right;\">5.47447 </td><td style=\"text-align: right;\">5.58823 </td><td style=\"text-align: right;\">2.56057 </td><td style=\"text-align: right;\">10.4764  </td><td style=\"text-align: right;\">6.70588</td></tr>\n",
       "</tbody>\n",
       "</table>"
      ],
      "text/plain": [
       "<IPython.core.display.HTML object>"
      ]
     },
     "metadata": {},
     "output_type": "display_data"
    }
   ],
   "source": [
    "dftff = []\n",
    "dftfl = []\n",
    "dftfr = []\n",
    "dffff = []\n",
    "dfffl = []\n",
    "dfffr = []\n",
    "for vn, vm, vf, f in zip(vnom, vmax, vfr, fsfl):\n",
    "  dftff.append(en.espacPowerFreqEL(us=vm, ka=ka, kg=kg))\n",
    "  dftfl.append(en.espacSlowFrontEL(ue2=vn*f, kcs=1.05, ka=ka, kg=kg))\n",
    "  dftfr.append(en.espacFastfrontEL(u90=vf, ka=ka, kg=kg))\n",
    "  dffff.append(en.espacPowerFreqPP(us=vn, ka=ka, kg=kg))\n",
    "  dfffl.append(en.espacSlowFrontPP(ue2=vn*f, kcs=1.05, ka=ka, kg=kg))\n",
    "  dfffr.append(en.espacFastfrontPP(u90=vf, ka=ka, kg=kg))\n",
    "\n",
    "table = zip(vnom, dftff, dftfl, dftfr, dffff, dfffl, dfffr)\n",
    "display(HTML('<h2>Método EN</h2>'))\n",
    "display(HTML(tabulate(table, headers=['Vn', 'dftff', 'dftfl', 'dftfr', 'dffff', 'dfffl', 'dfffr'], tablefmt='html')))"
   ]
  },
  {
   "attachments": {},
   "cell_type": "markdown",
   "metadata": {},
   "source": [
    "## Distância entre circuitos paralelos\n",
    "Ref. planilha Distâncias de Segurança Rev12.xls:Distâncias_fase_fase"
   ]
  },
  {
   "cell_type": "code",
   "execution_count": 6,
   "metadata": {},
   "outputs": [],
   "source": [
    "def tabFsfl(v: int) -> float:\n",
    "    # Fatores Fs_fl arbitrados na tabela\n",
    "    match v:\n",
    "        case 69 | 138 | 230 | 345:\n",
    "            return 3.\n",
    "        case 440 | 500:\n",
    "            return 2.4\n",
    "        case 765:\n",
    "            return 2.\n",
    "\n",
    "def tabKcs(v: int) -> float:\n",
    "    # Fatores Kcs arbitrados na tabela\n",
    "    match v:\n",
    "        case 69 | 138 | 230 | 345:\n",
    "            return 1.51\n",
    "        case 440 | 500 | 765:\n",
    "            return 1.48\n",
    "\n",
    "vff = [\n",
    "    [765, 69],\n",
    "    [765, 138],\n",
    "    [500, 69],\n",
    "    [500, 138],\n",
    "    [230, 69],\n",
    "    [69, 138],\n",
    "    [69, 345],\n",
    "    [69, 440],\n",
    "    [138, 230],\n",
    "    [138, 345],\n",
    "    [138, 440],\n",
    "    [230, 345],\n",
    "    [230, 440],\n",
    "    [230, 500],\n",
    "    [230, 765],\n",
    "    [345, 440],\n",
    "    [345, 500],\n",
    "    [345, 765],\n",
    "    [440, 500],\n",
    "    [440, 765],\n",
    "    [500, 765]\n",
    "]"
   ]
  },
  {
   "cell_type": "code",
   "execution_count": 7,
   "metadata": {},
   "outputs": [
    {
     "data": {
      "text/html": [
       "<table>\n",
       "<thead>\n",
       "<tr><th>V         </th><th style=\"text-align: right;\">  Vn</th><th style=\"text-align: right;\">  Kcs</th><th style=\"text-align: right;\">  FsFl</th><th style=\"text-align: right;\">  kg</th><th style=\"text-align: right;\">  dff_ff</th><th style=\"text-align: right;\">   dff_fl</th></tr>\n",
       "</thead>\n",
       "<tbody>\n",
       "<tr><td>[765, 69] </td><td style=\"text-align: right;\"> 765</td><td style=\"text-align: right;\"> 1.48</td><td style=\"text-align: right;\">   2  </td><td style=\"text-align: right;\">1.52</td><td style=\"text-align: right;\">2.25133 </td><td style=\"text-align: right;\">nan      </td></tr>\n",
       "<tr><td>[765, 138]</td><td style=\"text-align: right;\"> 765</td><td style=\"text-align: right;\"> 1.48</td><td style=\"text-align: right;\">   2  </td><td style=\"text-align: right;\">1.52</td><td style=\"text-align: right;\">2.25133 </td><td style=\"text-align: right;\">nan      </td></tr>\n",
       "<tr><td>[500, 69] </td><td style=\"text-align: right;\"> 500</td><td style=\"text-align: right;\"> 1.48</td><td style=\"text-align: right;\">   2.4</td><td style=\"text-align: right;\">1.52</td><td style=\"text-align: right;\">1.36512 </td><td style=\"text-align: right;\">nan      </td></tr>\n",
       "<tr><td>[500, 138]</td><td style=\"text-align: right;\"> 500</td><td style=\"text-align: right;\"> 1.48</td><td style=\"text-align: right;\">   2.4</td><td style=\"text-align: right;\">1.52</td><td style=\"text-align: right;\">1.36512 </td><td style=\"text-align: right;\">nan      </td></tr>\n",
       "<tr><td>[230, 69] </td><td style=\"text-align: right;\"> 230</td><td style=\"text-align: right;\"> 1.51</td><td style=\"text-align: right;\">   3  </td><td style=\"text-align: right;\">1.52</td><td style=\"text-align: right;\">0.620294</td><td style=\"text-align: right;\">  2.22438</td></tr>\n",
       "<tr><td>[69, 138] </td><td style=\"text-align: right;\"> 138</td><td style=\"text-align: right;\"> 1.51</td><td style=\"text-align: right;\">   3  </td><td style=\"text-align: right;\">1.52</td><td style=\"text-align: right;\">0.386797</td><td style=\"text-align: right;\">  1.47636</td></tr>\n",
       "<tr><td>[69, 345] </td><td style=\"text-align: right;\"> 345</td><td style=\"text-align: right;\"> 1.51</td><td style=\"text-align: right;\">   3  </td><td style=\"text-align: right;\">1.52</td><td style=\"text-align: right;\">0.922932</td><td style=\"text-align: right;\">  3.71306</td></tr>\n",
       "<tr><td>[69, 440] </td><td style=\"text-align: right;\"> 440</td><td style=\"text-align: right;\"> 1.48</td><td style=\"text-align: right;\">   2.4</td><td style=\"text-align: right;\">1.52</td><td style=\"text-align: right;\">1.1884  </td><td style=\"text-align: right;\">  3.71317</td></tr>\n",
       "<tr><td>[138, 230]</td><td style=\"text-align: right;\"> 230</td><td style=\"text-align: right;\"> 1.51</td><td style=\"text-align: right;\">   3  </td><td style=\"text-align: right;\">1.52</td><td style=\"text-align: right;\">0.620294</td><td style=\"text-align: right;\">  2.22438</td></tr>\n",
       "<tr><td>[138, 345]</td><td style=\"text-align: right;\"> 345</td><td style=\"text-align: right;\"> 1.51</td><td style=\"text-align: right;\">   3  </td><td style=\"text-align: right;\">1.52</td><td style=\"text-align: right;\">0.922932</td><td style=\"text-align: right;\">  3.71306</td></tr>\n",
       "<tr><td>[138, 440]</td><td style=\"text-align: right;\"> 440</td><td style=\"text-align: right;\"> 1.48</td><td style=\"text-align: right;\">   2.4</td><td style=\"text-align: right;\">1.52</td><td style=\"text-align: right;\">1.1884  </td><td style=\"text-align: right;\">  3.71317</td></tr>\n",
       "<tr><td>[230, 345]</td><td style=\"text-align: right;\"> 345</td><td style=\"text-align: right;\"> 1.51</td><td style=\"text-align: right;\">   3  </td><td style=\"text-align: right;\">1.52</td><td style=\"text-align: right;\">0.922932</td><td style=\"text-align: right;\">  3.71306</td></tr>\n",
       "<tr><td>[230, 440]</td><td style=\"text-align: right;\"> 440</td><td style=\"text-align: right;\"> 1.48</td><td style=\"text-align: right;\">   2.4</td><td style=\"text-align: right;\">1.52</td><td style=\"text-align: right;\">1.1884  </td><td style=\"text-align: right;\">  3.71317</td></tr>\n",
       "<tr><td>[230, 500]</td><td style=\"text-align: right;\"> 500</td><td style=\"text-align: right;\"> 1.48</td><td style=\"text-align: right;\">   2.4</td><td style=\"text-align: right;\">1.52</td><td style=\"text-align: right;\">1.36512 </td><td style=\"text-align: right;\">nan      </td></tr>\n",
       "<tr><td>[230, 765]</td><td style=\"text-align: right;\"> 765</td><td style=\"text-align: right;\"> 1.48</td><td style=\"text-align: right;\">   2  </td><td style=\"text-align: right;\">1.52</td><td style=\"text-align: right;\">2.25133 </td><td style=\"text-align: right;\">nan      </td></tr>\n",
       "<tr><td>[345, 440]</td><td style=\"text-align: right;\"> 440</td><td style=\"text-align: right;\"> 1.48</td><td style=\"text-align: right;\">   2.4</td><td style=\"text-align: right;\">1.52</td><td style=\"text-align: right;\">1.1884  </td><td style=\"text-align: right;\">  3.71317</td></tr>\n",
       "<tr><td>[345, 500]</td><td style=\"text-align: right;\"> 500</td><td style=\"text-align: right;\"> 1.48</td><td style=\"text-align: right;\">   2.4</td><td style=\"text-align: right;\">1.52</td><td style=\"text-align: right;\">1.36512 </td><td style=\"text-align: right;\">nan      </td></tr>\n",
       "<tr><td>[345, 765]</td><td style=\"text-align: right;\"> 765</td><td style=\"text-align: right;\"> 1.48</td><td style=\"text-align: right;\">   2  </td><td style=\"text-align: right;\">1.52</td><td style=\"text-align: right;\">2.25133 </td><td style=\"text-align: right;\">nan      </td></tr>\n",
       "<tr><td>[440, 500]</td><td style=\"text-align: right;\"> 500</td><td style=\"text-align: right;\"> 1.48</td><td style=\"text-align: right;\">   2.4</td><td style=\"text-align: right;\">1.52</td><td style=\"text-align: right;\">1.36512 </td><td style=\"text-align: right;\">nan      </td></tr>\n",
       "<tr><td>[440, 765]</td><td style=\"text-align: right;\"> 765</td><td style=\"text-align: right;\"> 1.48</td><td style=\"text-align: right;\">   2  </td><td style=\"text-align: right;\">1.52</td><td style=\"text-align: right;\">2.25133 </td><td style=\"text-align: right;\">nan      </td></tr>\n",
       "<tr><td>[500, 765]</td><td style=\"text-align: right;\"> 765</td><td style=\"text-align: right;\"> 1.48</td><td style=\"text-align: right;\">   2  </td><td style=\"text-align: right;\">1.52</td><td style=\"text-align: right;\">2.25133 </td><td style=\"text-align: right;\">nan      </td></tr>\n",
       "</tbody>\n",
       "</table>"
      ],
      "text/plain": [
       "<IPython.core.display.HTML object>"
      ]
     },
     "metadata": {},
     "output_type": "display_data"
    }
   ],
   "source": [
    "tvm=[]\n",
    "tkcs=[]\n",
    "tfsfl=[]\n",
    "tkg=[]\n",
    "tdffff=[]\n",
    "tdfffl=[]\n",
    "for v in vff:\n",
    "  vm = max(v)\n",
    "  kcs=tabKcs(vm)\n",
    "  fsfl=tabFsfl(vm)\n",
    "  kg=nbr5422.fatorKgFFFrenteLenta(types.gap.CONDUTOR_PARALELO)\n",
    "  tdffff.append(nbr5422.espacFFFreqFund(Us=float(vm), Ftmo=1.1, kaff=0.9, kgff=kg))\n",
    "  tdfffl.append(nbr5422.espacFFFrenteLenta(Us=float(vm), Kcs=kcs, Fsfl=fsfl, kafl=0.95, kg=kg))\n",
    "  tvm.append(vm)\n",
    "  tkcs.append(kcs)\n",
    "  tfsfl.append(fsfl)\n",
    "  tkg.append(kg)\n",
    "\n",
    "table = zip(vff, tvm, tkcs, tfsfl, tkg, tdffff, tdfffl)\n",
    "display(HTML(tabulate(table, headers=['V','Vn', 'Kcs', 'FsFl', 'kg', 'dff_ff', 'dff_fl'], tablefmt='html')))"
   ]
  },
  {
   "cell_type": "code",
   "execution_count": 8,
   "metadata": {},
   "outputs": [
    {
     "name": "stdout",
     "output_type": "stream",
     "text": [
      "834 9.204407676193489 5.528953037057247\n",
      "903 9.728807676193489 6.3123427803182715\n",
      "569 7.190407676193488 3.9611964383128333\n",
      "638 7.714807676193488 4.793914711453032\n",
      "299 5.138407676193489 1.9658351420659779\n",
      "207 4.439207676193488 1.064941592832497\n",
      "414 6.012407676193488 3.3817600717219123\n",
      "509 6.734407676193488 3.2896733377900764\n",
      "368 5.662807676193489 2.7788911599301387\n",
      "483 6.536807676193488 4.3726336282720855\n",
      "578 7.258807676193489 4.066192532517563\n",
      "575 7.236007676193489 5.8474904417211695\n",
      "670 7.958007676193488 5.201408079121558\n",
      "730 8.414007676193489 6.000859237637737\n",
      "995 10.428007676193488 7.420448755292127\n",
      "785 8.832007676193488 6.773325546264284\n",
      "845 9.288007676193487 7.658158764099405\n",
      "1110 11.32 8.90456073185179\n",
      "940 10.010007676193489 9.1465721336855\n",
      "1205 12.270000000000001 10.210911259037026\n",
      "1265 12.870000000000001 11.072456956605922\n"
     ]
    }
   ],
   "source": [
    "# Cálculo pela NBR 5422:1985, método alternativo\n",
    "for v in vff:\n",
    "  vm = v[0]+v[1]\n",
    "  pu=tabFsfl(max(v))\n",
    "  dff1 = nbr1985.distHorizFF(float(vm))\n",
    "  dff2 = nbr1985.distHorizFFAlt(float(vm), pu)\n",
    "  print(vm, dff1, dff2)"
   ]
  },
  {
   "cell_type": "code",
   "execution_count": 34,
   "metadata": {},
   "outputs": [
    {
     "data": {
      "text/plain": [
       "1.48"
      ]
     },
     "execution_count": 34,
     "metadata": {},
     "output_type": "execute_result"
    }
   ],
   "source": [
    "pu"
   ]
  },
  {
   "cell_type": "code",
   "execution_count": null,
   "metadata": {},
   "outputs": [],
   "source": []
  }
 ],
 "metadata": {
  "kernelspec": {
   "display_name": "Python 3",
   "language": "python",
   "name": "python3"
  },
  "language_info": {
   "codemirror_mode": {
    "name": "ipython",
    "version": 3
   },
   "file_extension": ".py",
   "mimetype": "text/x-python",
   "name": "python",
   "nbconvert_exporter": "python",
   "pygments_lexer": "ipython3",
   "version": "3.11.3"
  },
  "orig_nbformat": 4
 },
 "nbformat": 4,
 "nbformat_minor": 2
}
