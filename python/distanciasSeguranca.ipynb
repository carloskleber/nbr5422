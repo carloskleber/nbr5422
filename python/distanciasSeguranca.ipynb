{
 "cells": [
  {
   "attachments": {},
   "cell_type": "markdown",
   "metadata": {},
   "source": [
    "# Comparação entre distâncias de isolamento"
   ]
  },
  {
   "cell_type": "code",
   "execution_count": 1,
   "metadata": {},
   "outputs": [],
   "source": [
    "from tabulate import tabulate\n",
    "from IPython.display import HTML, display\n",
    "from normaslt import types, nbr5422, nbr1985"
   ]
  },
  {
   "cell_type": "code",
   "execution_count": 2,
   "metadata": {},
   "outputs": [
    {
     "data": {
      "text/plain": [
       "20.649832888830474"
      ]
     },
     "execution_count": 2,
     "metadata": {},
     "output_type": "execute_result"
    }
   ],
   "source": [
    "obs = types.obs.LINHA_TRANSMISSAO\n",
    "v1 = 550.\n",
    "v2 = 69.\n",
    "dra=0.9\n",
    "h=nbr5422.umidAbs(dra=dra, t=25.)\n",
    "nbr1985.distVertFT(du=v1, obs=obs)\n",
    "h"
   ]
  },
  {
   "cell_type": "code",
   "execution_count": 3,
   "metadata": {},
   "outputs": [
    {
     "data": {
      "text/plain": [
       "nan"
      ]
     },
     "execution_count": 3,
     "metadata": {},
     "output_type": "execute_result"
    }
   ],
   "source": [
    "kg=nbr5422.fatorKgFFFrenteLenta(types.gap.CONDUTOR_CRUZADO)\n",
    "kcs=1.48 # risco 1e-6, 100 gaps em paralelo\n",
    "dff = nbr5422.espacFFFrenteLenta(Us=800., Kcs=kcs, Fsfl=2.4, kafl=0.95, kg=kg, alpha=0.33)\n",
    "dff"
   ]
  },
  {
   "cell_type": "code",
   "execution_count": 4,
   "metadata": {},
   "outputs": [
    {
     "data": {
      "text/plain": [
       "nan"
      ]
     },
     "execution_count": 4,
     "metadata": {},
     "output_type": "execute_result"
    }
   ],
   "source": [
    "# Cálculo do kafl real e ajuste do espaçamento\n",
    "kafl=nbr5422.fatorAtmFrenteLenta(dra=dra, h=h, d=dff)\n",
    "kafl\n",
    "dff = nbr5422.espacFFFrenteLenta(Us=v1, Kcs=kcs, Fsfl=2, kafl=kafl, kg=kg)\n",
    "dff"
   ]
  },
  {
   "cell_type": "code",
   "execution_count": 5,
   "metadata": {},
   "outputs": [
    {
     "data": {
      "text/html": [
       "<table>\n",
       "<thead>\n",
       "<tr><th style=\"text-align: right;\">  V1</th><th style=\"text-align: right;\">  V2</th></tr>\n",
       "</thead>\n",
       "<tbody>\n",
       "<tr><td style=\"text-align: right;\"> 765</td><td style=\"text-align: right;\">  69</td></tr>\n",
       "<tr><td style=\"text-align: right;\"> 765</td><td style=\"text-align: right;\"> 138</td></tr>\n",
       "<tr><td style=\"text-align: right;\"> 500</td><td style=\"text-align: right;\">  69</td></tr>\n",
       "<tr><td style=\"text-align: right;\"> 500</td><td style=\"text-align: right;\"> 138</td></tr>\n",
       "<tr><td style=\"text-align: right;\"> 230</td><td style=\"text-align: right;\">  69</td></tr>\n",
       "<tr><td style=\"text-align: right;\">  69</td><td style=\"text-align: right;\"> 138</td></tr>\n",
       "<tr><td style=\"text-align: right;\">  69</td><td style=\"text-align: right;\"> 345</td></tr>\n",
       "<tr><td style=\"text-align: right;\">  69</td><td style=\"text-align: right;\"> 440</td></tr>\n",
       "<tr><td style=\"text-align: right;\"> 138</td><td style=\"text-align: right;\"> 230</td></tr>\n",
       "<tr><td style=\"text-align: right;\"> 138</td><td style=\"text-align: right;\"> 345</td></tr>\n",
       "<tr><td style=\"text-align: right;\"> 138</td><td style=\"text-align: right;\"> 440</td></tr>\n",
       "<tr><td style=\"text-align: right;\"> 230</td><td style=\"text-align: right;\"> 345</td></tr>\n",
       "<tr><td style=\"text-align: right;\"> 230</td><td style=\"text-align: right;\"> 440</td></tr>\n",
       "<tr><td style=\"text-align: right;\"> 230</td><td style=\"text-align: right;\"> 500</td></tr>\n",
       "<tr><td style=\"text-align: right;\"> 230</td><td style=\"text-align: right;\"> 765</td></tr>\n",
       "<tr><td style=\"text-align: right;\"> 345</td><td style=\"text-align: right;\"> 440</td></tr>\n",
       "<tr><td style=\"text-align: right;\"> 345</td><td style=\"text-align: right;\"> 500</td></tr>\n",
       "<tr><td style=\"text-align: right;\"> 345</td><td style=\"text-align: right;\"> 765</td></tr>\n",
       "<tr><td style=\"text-align: right;\"> 440</td><td style=\"text-align: right;\"> 500</td></tr>\n",
       "<tr><td style=\"text-align: right;\"> 440</td><td style=\"text-align: right;\"> 765</td></tr>\n",
       "<tr><td style=\"text-align: right;\"> 500</td><td style=\"text-align: right;\"> 765</td></tr>\n",
       "</tbody>\n",
       "</table>"
      ],
      "text/plain": [
       "<IPython.core.display.HTML object>"
      ]
     },
     "metadata": {},
     "output_type": "display_data"
    }
   ],
   "source": [
    "# Combinações de distâncias entre circuitos paralelos\n",
    "# Ref. planilha Distâncias de Segurança Rev12.xls:Distâncias_fase_fase\n",
    "def tabKcs(v: int) -> float:\n",
    "    # Fatores Kcs arbitrados na tabela\n",
    "    match v:\n",
    "        case 69 | 138 | 230 | 345:\n",
    "            return 3.\n",
    "        case 440 | 500:\n",
    "            return 2.4\n",
    "        case 765:\n",
    "            return 2.\n",
    "\n",
    "def tabFsFl(v: int) -> float:\n",
    "    # Fatores Fs_fl arbitrados na tabela\n",
    "    match v:\n",
    "        case 69 | 138 | 230 | 345:\n",
    "            return 1.51\n",
    "        case 440 | 500 | 765:\n",
    "            return 1.48\n",
    "\n",
    "vff = [\n",
    "    [765, 69],\n",
    "    [765, 138],\n",
    "    [500, 69],\n",
    "    [500, 138],\n",
    "    [230, 69],\n",
    "    [69, 138],\n",
    "    [69, 345],\n",
    "    [69, 440],\n",
    "    [138, 230],\n",
    "    [138, 345],\n",
    "    [138, 440],\n",
    "    [230, 345],\n",
    "    [230, 440],\n",
    "    [230, 500],\n",
    "    [230, 765],\n",
    "    [345, 440],\n",
    "    [345, 500],\n",
    "    [345, 765],\n",
    "    [440, 500],\n",
    "    [440, 765],\n",
    "    [500, 765]\n",
    "]\n",
    "\n",
    "table = tabulate(vff, headers=['V1', 'V2'], tablefmt='html')\n",
    "display(HTML(table))"
   ]
  },
  {
   "cell_type": "code",
   "execution_count": 7,
   "metadata": {},
   "outputs": [
    {
     "name": "stdout",
     "output_type": "stream",
     "text": [
      "765 2.0 1.48 1.52 1.510547579081131 2.8879975237825932\n",
      "765 2.0 1.48 1.52 1.510547579081131 2.8879975237825932\n",
      "500 2.4 1.48 1.52 1.1646254063479864 2.1885213756368276\n",
      "500 2.4 1.48 1.52 1.1646254063479864 2.1885213756368276\n",
      "230 3.0 1.51 1.52 0.8935256286234851 1.4424867644497439\n",
      "138 3.0 1.51 1.52 0.8163846419853945 1.1385004404393202\n",
      "345 3.0 1.51 1.52 1.0002815266214828 1.9390326837941123\n",
      "440 2.4 1.48 1.52 1.0980271891735736 1.939065716380855\n",
      "230 3.0 1.51 1.52 0.8935256286234851 1.4424867644497439\n",
      "345 3.0 1.51 1.52 1.0002815266214828 1.9390326837941123\n",
      "440 2.4 1.48 1.52 1.0980271891735736 1.939065716380855\n",
      "345 3.0 1.51 1.52 1.0002815266214828 1.9390326837941123\n",
      "440 2.4 1.48 1.52 1.0980271891735736 1.939065716380855\n",
      "500 2.4 1.48 1.52 1.1646254063479864 2.1885213756368276\n",
      "765 2.0 1.48 1.52 1.510547579081131 2.8879975237825932\n",
      "440 2.4 1.48 1.52 1.0980271891735736 1.939065716380855\n",
      "500 2.4 1.48 1.52 1.1646254063479864 2.1885213756368276\n",
      "765 2.0 1.48 1.52 1.510547579081131 2.8879975237825932\n",
      "500 2.4 1.48 1.52 1.1646254063479864 2.1885213756368276\n",
      "765 2.0 1.48 1.52 1.510547579081131 2.8879975237825932\n",
      "765 2.0 1.48 1.52 1.510547579081131 2.8879975237825932\n"
     ]
    }
   ],
   "source": [
    "for v in vff:\n",
    "  vm = max(v)\n",
    "  kcs=tabKcs(vm)\n",
    "  fsfl=tabFsFl(vm)\n",
    "  kg=nbr5422.fatorKgFFFrenteLenta(types.gap.CONDUTOR_PARALELO)\n",
    "  dffff=nbr5422.espacFFFreqFund(Us=float(vm), Ftmo=1.1, kaff=0.9, kgff=kg)\n",
    "  dfffl=nbr5422.espacFFFrenteLenta(Us=float(vm), Kcs=kcs, Fsfl=fsfl, kafl=0.95, kg=kg)\n",
    "  print(vm, kcs, fsfl, kg, dffff, dfffl)"
   ]
  },
  {
   "cell_type": "code",
   "execution_count": 9,
   "metadata": {},
   "outputs": [
    {
     "ename": "NameError",
     "evalue": "name 'distHorizFFAlt' is not defined",
     "output_type": "error",
     "traceback": [
      "\u001b[0;31m---------------------------------------------------------------------------\u001b[0m",
      "\u001b[0;31mNameError\u001b[0m                                 Traceback (most recent call last)",
      "Cell \u001b[0;32mIn[9], line 5\u001b[0m\n\u001b[1;32m      3\u001b[0m vm \u001b[39m=\u001b[39m \u001b[39mmax\u001b[39m(v)\n\u001b[1;32m      4\u001b[0m pu\u001b[39m=\u001b[39mtabFsFl(vm)\n\u001b[0;32m----> 5\u001b[0m dff \u001b[39m=\u001b[39m distHorizFFAlt(vm\u001b[39m*\u001b[39msqrt(\u001b[39m2\u001b[39m), pu)\n\u001b[1;32m      6\u001b[0m \u001b[39mprint\u001b[39m(vm, dff)\n",
      "\u001b[0;31mNameError\u001b[0m: name 'distHorizFFAlt' is not defined"
     ]
    }
   ],
   "source": [
    "# Cálculo pela NBR 5422:1985, método alternativo\n",
    "for v in vff:\n",
    "  vm = max(v)\n",
    "  pu=tabFsFl(vm)\n",
    "  dff = distHorizFFAlt(vm*sqrt(2), pu)\n",
    "  print(vm, dff)"
   ]
  },
  {
   "cell_type": "code",
   "execution_count": null,
   "metadata": {},
   "outputs": [],
   "source": []
  }
 ],
 "metadata": {
  "kernelspec": {
   "display_name": "Python 3",
   "language": "python",
   "name": "python3"
  },
  "language_info": {
   "codemirror_mode": {
    "name": "ipython",
    "version": 3
   },
   "file_extension": ".py",
   "mimetype": "text/x-python",
   "name": "python",
   "nbconvert_exporter": "python",
   "pygments_lexer": "ipython3",
   "version": "3.11.3"
  },
  "orig_nbformat": 4
 },
 "nbformat": 4,
 "nbformat_minor": 2
}
