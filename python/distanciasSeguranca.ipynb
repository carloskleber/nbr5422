{
 "cells": [
  {
   "attachments": {},
   "cell_type": "markdown",
   "metadata": {},
   "source": [
    "# Comparação entre distâncias de isolamento"
   ]
  },
  {
   "cell_type": "code",
   "execution_count": 6,
   "metadata": {},
   "outputs": [],
   "source": [
    "from tabulate import tabulate\n",
    "from IPython.display import HTML, display\n",
    "from normaslt import types, nbr5422, nbr1985"
   ]
  },
  {
   "cell_type": "code",
   "execution_count": 7,
   "metadata": {},
   "outputs": [
    {
     "data": {
      "text/plain": [
       "20.649832888830474"
      ]
     },
     "execution_count": 7,
     "metadata": {},
     "output_type": "execute_result"
    }
   ],
   "source": [
    "obs = types.obs.LINHA_TRANSMISSAO\n",
    "v1 = 550.\n",
    "v2 = 69.\n",
    "dra=0.9\n",
    "h=nbr5422.umidAbs(dra=dra, t=25.)\n",
    "nbr1985.distVertFT(du=v1, obs=obs)\n",
    "h"
   ]
  },
  {
   "cell_type": "code",
   "execution_count": 8,
   "metadata": {},
   "outputs": [
    {
     "data": {
      "text/plain": [
       "2.012111289164519"
      ]
     },
     "execution_count": 8,
     "metadata": {},
     "output_type": "execute_result"
    }
   ],
   "source": [
    "kg=nbr5422.fatorKgFFFrenteLenta(types.gap.CONDUTOR_PARALELO)\n",
    "kcs=1.48 # risco 1e-6, 100 gaps em paralelo\n",
    "dff = nbr5422.espacFFFrenteLenta(Us=v1, Kcs=kcs, Fsfl=2, kafl=0.95, kg=kg)\n",
    "dff"
   ]
  },
  {
   "cell_type": "code",
   "execution_count": 9,
   "metadata": {},
   "outputs": [
    {
     "data": {
      "text/plain": [
       "1.900126881601252"
      ]
     },
     "execution_count": 9,
     "metadata": {},
     "output_type": "execute_result"
    }
   ],
   "source": [
    "# Cálculo do kafl real e ajuste do espaçamento\n",
    "kafl=nbr5422.fatorAtmFrenteLenta(dra=dra, h=h, d=dff)\n",
    "kafl\n",
    "dff = nbr5422.espacFFFrenteLenta(Us=v1, Kcs=kcs, Fsfl=2, kafl=kafl, kg=kg)\n",
    "dff"
   ]
  },
  {
   "cell_type": "code",
   "execution_count": 10,
   "metadata": {},
   "outputs": [
    {
     "data": {
      "text/html": [
       "<table>\n",
       "<tbody>\n",
       "<tr><td style=\"text-align: right;\">765</td><td style=\"text-align: right;\">765</td><td style=\"text-align: right;\">500</td><td style=\"text-align: right;\">500</td><td style=\"text-align: right;\">230</td><td style=\"text-align: right;\"> 69</td><td style=\"text-align: right;\"> 69</td><td style=\"text-align: right;\"> 69</td></tr>\n",
       "<tr><td style=\"text-align: right;\"> 69</td><td style=\"text-align: right;\">138</td><td style=\"text-align: right;\"> 69</td><td style=\"text-align: right;\">138</td><td style=\"text-align: right;\"> 69</td><td style=\"text-align: right;\">138</td><td style=\"text-align: right;\">345</td><td style=\"text-align: right;\">440</td></tr>\n",
       "</tbody>\n",
       "</table>"
      ],
      "text/plain": [
       "<IPython.core.display.HTML object>"
      ]
     },
     "metadata": {},
     "output_type": "display_data"
    }
   ],
   "source": [
    "# teste de tabela\n",
    "vff = [\n",
    "    [765, 765, 500, 500, 230, 69, 69, 69],\n",
    "    [69, 138, 69, 138, 69, 138, 345, 440]\n",
    "]\n",
    "\n",
    "table = tabulate(vff, tablefmt='html')\n",
    "display(HTML(table))"
   ]
  },
  {
   "cell_type": "code",
   "execution_count": null,
   "metadata": {},
   "outputs": [],
   "source": []
  }
 ],
 "metadata": {
  "kernelspec": {
   "display_name": "Python 3",
   "language": "python",
   "name": "python3"
  },
  "language_info": {
   "codemirror_mode": {
    "name": "ipython",
    "version": 3
   },
   "file_extension": ".py",
   "mimetype": "text/x-python",
   "name": "python",
   "nbconvert_exporter": "python",
   "pygments_lexer": "ipython3",
   "version": "3.11.3"
  },
  "orig_nbformat": 4
 },
 "nbformat": 4,
 "nbformat_minor": 2
}
