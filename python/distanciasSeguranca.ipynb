{
 "cells": [
  {
   "attachments": {},
   "cell_type": "markdown",
   "metadata": {},
   "source": [
    "# Comparação entre distâncias de isolamento"
   ]
  },
  {
   "cell_type": "code",
   "execution_count": 1,
   "metadata": {},
   "outputs": [],
   "source": [
    "from tabulate import tabulate\n",
    "from math import sqrt\n",
    "from IPython.display import HTML, display\n",
    "from normaslt import types, nbr5422, nbr1985"
   ]
  },
  {
   "cell_type": "code",
   "execution_count": 2,
   "metadata": {},
   "outputs": [
    {
     "data": {
      "text/plain": [
       "20.649832888830474"
      ]
     },
     "execution_count": 2,
     "metadata": {},
     "output_type": "execute_result"
    }
   ],
   "source": [
    "obs = types.obs.LINHA_TRANSMISSAO\n",
    "v1 = 550.\n",
    "v2 = 69.\n",
    "dra=0.9\n",
    "h=nbr5422.umidAbs(dra=dra, t=25.)\n",
    "nbr1985.distVertFT(du=v1, obs=obs)\n",
    "h"
   ]
  },
  {
   "cell_type": "code",
   "execution_count": 3,
   "metadata": {},
   "outputs": [
    {
     "data": {
      "text/plain": [
       "nan"
      ]
     },
     "execution_count": 3,
     "metadata": {},
     "output_type": "execute_result"
    }
   ],
   "source": [
    "kg=nbr5422.fatorKgFFFrenteLenta(types.gap.CONDUTOR_CRUZADO)\n",
    "kcs=1.48 # risco 1e-6, 100 gaps em paralelo\n",
    "dff = nbr5422.espacFFFrenteLenta(Us=800., Kcs=kcs, Fsfl=2.4, kafl=0.95, kg=kg, alpha=0.33)\n",
    "dff"
   ]
  },
  {
   "cell_type": "code",
   "execution_count": 4,
   "metadata": {},
   "outputs": [
    {
     "data": {
      "text/plain": [
       "nan"
      ]
     },
     "execution_count": 4,
     "metadata": {},
     "output_type": "execute_result"
    }
   ],
   "source": [
    "# Cálculo do kafl real e ajuste do espaçamento\n",
    "kafl=nbr5422.fatorAtmFrenteLenta(dra=dra, h=h, d=dff)\n",
    "kafl\n",
    "dff = nbr5422.espacFFFrenteLenta(Us=v1, Kcs=kcs, Fsfl=2, kafl=kafl, kg=kg)\n",
    "dff"
   ]
  },
  {
   "attachments": {},
   "cell_type": "markdown",
   "metadata": {},
   "source": [
    "## Distâncias elétricas para circuitos"
   ]
  },
  {
   "cell_type": "code",
   "execution_count": 5,
   "metadata": {},
   "outputs": [
    {
     "name": "stderr",
     "output_type": "stream",
     "text": [
      "/home/carloska/programas/nbr5422/python/normaslt/nbr5422.py:58: UserWarning: Distância calculada fora da validade do modelo: 14 m.\n",
      "  warn('Distância calculada fora da validade do modelo: %d m.' % d)\n",
      "/home/carloska/programas/nbr5422/python/normaslt/nbr5422.py:58: UserWarning: Distância calculada fora da validade do modelo: 16 m.\n",
      "  warn('Distância calculada fora da validade do modelo: %d m.' % d)\n"
     ]
    },
    {
     "data": {
      "text/html": [
       "<table>\n",
       "<thead>\n",
       "<tr><th style=\"text-align: right;\">  Vn</th><th style=\"text-align: right;\">   dftff</th><th style=\"text-align: right;\">   dftfl</th><th style=\"text-align: right;\">   dffff</th><th style=\"text-align: right;\">    dfffl</th></tr>\n",
       "</thead>\n",
       "<tbody>\n",
       "<tr><td style=\"text-align: right;\">  69</td><td style=\"text-align: right;\">0.164485</td><td style=\"text-align: right;\">0.987253</td><td style=\"text-align: right;\">0.2649  </td><td style=\"text-align: right;\">  1.12074</td></tr>\n",
       "<tr><td style=\"text-align: right;\"> 138</td><td style=\"text-align: right;\">0.300711</td><td style=\"text-align: right;\">1.22093 </td><td style=\"text-align: right;\">0.493816</td><td style=\"text-align: right;\">  1.57342</td></tr>\n",
       "<tr><td style=\"text-align: right;\"> 230</td><td style=\"text-align: right;\">0.477194</td><td style=\"text-align: right;\">1.62072 </td><td style=\"text-align: right;\">0.80498 </td><td style=\"text-align: right;\">  2.47342</td></tr>\n",
       "<tr><td style=\"text-align: right;\"> 345</td><td style=\"text-align: right;\">0.697467</td><td style=\"text-align: right;\">2.3093  </td><td style=\"text-align: right;\">1.2179  </td><td style=\"text-align: right;\"> 14.6664 </td></tr>\n",
       "<tr><td style=\"text-align: right;\"> 440</td><td style=\"text-align: right;\">0.883201</td><td style=\"text-align: right;\">2.35961 </td><td style=\"text-align: right;\">1.588   </td><td style=\"text-align: right;\"> 16.2586 </td></tr>\n",
       "<tr><td style=\"text-align: right;\"> 500</td><td style=\"text-align: right;\">1.06036 </td><td style=\"text-align: right;\">2.73542 </td><td style=\"text-align: right;\">1.96003 </td><td style=\"text-align: right;\">nan      </td></tr>\n",
       "<tr><td style=\"text-align: right;\"> 765</td><td style=\"text-align: right;\">1.59544 </td><td style=\"text-align: right;\">3.83804 </td><td style=\"text-align: right;\">3.19752 </td><td style=\"text-align: right;\">nan      </td></tr>\n",
       "</tbody>\n",
       "</table>"
      ],
      "text/plain": [
       "<IPython.core.display.HTML object>"
      ]
     },
     "metadata": {},
     "output_type": "display_data"
    }
   ],
   "source": [
    "vnom = [69., 138., 230., 345., 440., 500., 765.]\n",
    "vmax = [72.5, 145., 242., 362., 460., 550., 800.]\n",
    "fsfl = [3., 3., 3., 3., 2.4, 2.4, 2.]\n",
    "kg = 1.35\n",
    "kafl = 0.95\n",
    "kcs = 1.48\n",
    "dftff = []\n",
    "dftfl = []\n",
    "dffff = []\n",
    "dfffl = []\n",
    "for vn, vm, f in zip(vnom, vmax, fsfl):\n",
    "  ftmo=vm/vn\n",
    "  dftff.append(nbr5422.espacFTFreqFund(Us=vn, Ftmo=ftmo, kaff=1., kgff=1.))\n",
    "  dftfl.append(nbr5422.espacFTFrenteLenta(Us=vn, Kcs=kcs, Fsfl=f, kafl=kafl, kg=kg))\n",
    "  dffff.append(nbr5422.espacFFFreqFund(Us=vn, Ftmo=ftmo, kaff=1., kgff=1.))\n",
    "  dfffl.append(nbr5422.espacFFFrenteLenta(Us=vn, Kcs=kcs, Fsfl=f, kafl=kafl, kg=kg, alpha=0.33))\n",
    "\n",
    "table = zip(vnom, dftff, dftfl, dffff, dfffl)\n",
    "display(HTML(tabulate(table, headers=['Vn', 'dftff', 'dftfl', 'dffff', 'dfffl'], tablefmt='html')))"
   ]
  },
  {
   "attachments": {},
   "cell_type": "markdown",
   "metadata": {},
   "source": [
    "## Distância entre circuitos paralelos\n",
    "Ref. planilha Distâncias de Segurança Rev12.xls:Distâncias_fase_fase"
   ]
  },
  {
   "cell_type": "code",
   "execution_count": 6,
   "metadata": {},
   "outputs": [
    {
     "data": {
      "text/html": [
       "<table>\n",
       "<thead>\n",
       "<tr><th style=\"text-align: right;\">  V1</th><th style=\"text-align: right;\">  V2</th></tr>\n",
       "</thead>\n",
       "<tbody>\n",
       "<tr><td style=\"text-align: right;\"> 765</td><td style=\"text-align: right;\">  69</td></tr>\n",
       "<tr><td style=\"text-align: right;\"> 765</td><td style=\"text-align: right;\"> 138</td></tr>\n",
       "<tr><td style=\"text-align: right;\"> 500</td><td style=\"text-align: right;\">  69</td></tr>\n",
       "<tr><td style=\"text-align: right;\"> 500</td><td style=\"text-align: right;\"> 138</td></tr>\n",
       "<tr><td style=\"text-align: right;\"> 230</td><td style=\"text-align: right;\">  69</td></tr>\n",
       "<tr><td style=\"text-align: right;\">  69</td><td style=\"text-align: right;\"> 138</td></tr>\n",
       "<tr><td style=\"text-align: right;\">  69</td><td style=\"text-align: right;\"> 345</td></tr>\n",
       "<tr><td style=\"text-align: right;\">  69</td><td style=\"text-align: right;\"> 440</td></tr>\n",
       "<tr><td style=\"text-align: right;\"> 138</td><td style=\"text-align: right;\"> 230</td></tr>\n",
       "<tr><td style=\"text-align: right;\"> 138</td><td style=\"text-align: right;\"> 345</td></tr>\n",
       "<tr><td style=\"text-align: right;\"> 138</td><td style=\"text-align: right;\"> 440</td></tr>\n",
       "<tr><td style=\"text-align: right;\"> 230</td><td style=\"text-align: right;\"> 345</td></tr>\n",
       "<tr><td style=\"text-align: right;\"> 230</td><td style=\"text-align: right;\"> 440</td></tr>\n",
       "<tr><td style=\"text-align: right;\"> 230</td><td style=\"text-align: right;\"> 500</td></tr>\n",
       "<tr><td style=\"text-align: right;\"> 230</td><td style=\"text-align: right;\"> 765</td></tr>\n",
       "<tr><td style=\"text-align: right;\"> 345</td><td style=\"text-align: right;\"> 440</td></tr>\n",
       "<tr><td style=\"text-align: right;\"> 345</td><td style=\"text-align: right;\"> 500</td></tr>\n",
       "<tr><td style=\"text-align: right;\"> 345</td><td style=\"text-align: right;\"> 765</td></tr>\n",
       "<tr><td style=\"text-align: right;\"> 440</td><td style=\"text-align: right;\"> 500</td></tr>\n",
       "<tr><td style=\"text-align: right;\"> 440</td><td style=\"text-align: right;\"> 765</td></tr>\n",
       "<tr><td style=\"text-align: right;\"> 500</td><td style=\"text-align: right;\"> 765</td></tr>\n",
       "</tbody>\n",
       "</table>"
      ],
      "text/plain": [
       "<IPython.core.display.HTML object>"
      ]
     },
     "metadata": {},
     "output_type": "display_data"
    }
   ],
   "source": [
    "def tabFsfl(v: int) -> float:\n",
    "    # Fatores Fs_fl arbitrados na tabela\n",
    "    match v:\n",
    "        case 69 | 138 | 230 | 345:\n",
    "            return 3.\n",
    "        case 440 | 500:\n",
    "            return 2.4\n",
    "        case 765:\n",
    "            return 2.\n",
    "\n",
    "def tabKcs(v: int) -> float:\n",
    "    # Fatores Kcs arbitrados na tabela\n",
    "    match v:\n",
    "        case 69 | 138 | 230 | 345:\n",
    "            return 1.51\n",
    "        case 440 | 500 | 765:\n",
    "            return 1.48\n",
    "\n",
    "vff = [\n",
    "    [765, 69],\n",
    "    [765, 138],\n",
    "    [500, 69],\n",
    "    [500, 138],\n",
    "    [230, 69],\n",
    "    [69, 138],\n",
    "    [69, 345],\n",
    "    [69, 440],\n",
    "    [138, 230],\n",
    "    [138, 345],\n",
    "    [138, 440],\n",
    "    [230, 345],\n",
    "    [230, 440],\n",
    "    [230, 500],\n",
    "    [230, 765],\n",
    "    [345, 440],\n",
    "    [345, 500],\n",
    "    [345, 765],\n",
    "    [440, 500],\n",
    "    [440, 765],\n",
    "    [500, 765]\n",
    "]\n",
    "\n",
    "table = tabulate(vff, headers=['V1', 'V2'], tablefmt='html')\n",
    "display(HTML(table))"
   ]
  },
  {
   "cell_type": "code",
   "execution_count": 13,
   "metadata": {},
   "outputs": [
    {
     "data": {
      "text/html": [
       "<table>\n",
       "<thead>\n",
       "<tr><th>V1        </th><th style=\"text-align: right;\">  Vn</th><th style=\"text-align: right;\">  Kcs</th><th style=\"text-align: right;\">  FsFl</th><th style=\"text-align: right;\">  kg</th><th style=\"text-align: right;\">  dff_ff</th><th style=\"text-align: right;\">   dff_fl</th></tr>\n",
       "</thead>\n",
       "<tbody>\n",
       "<tr><td>[765, 69] </td><td style=\"text-align: right;\"> 765</td><td style=\"text-align: right;\"> 1.48</td><td style=\"text-align: right;\">   2  </td><td style=\"text-align: right;\">1.52</td><td style=\"text-align: right;\">2.25133 </td><td style=\"text-align: right;\">nan      </td></tr>\n",
       "<tr><td>[765, 138]</td><td style=\"text-align: right;\"> 765</td><td style=\"text-align: right;\"> 1.48</td><td style=\"text-align: right;\">   2  </td><td style=\"text-align: right;\">1.52</td><td style=\"text-align: right;\">2.25133 </td><td style=\"text-align: right;\">nan      </td></tr>\n",
       "<tr><td>[500, 69] </td><td style=\"text-align: right;\"> 500</td><td style=\"text-align: right;\"> 1.48</td><td style=\"text-align: right;\">   2.4</td><td style=\"text-align: right;\">1.52</td><td style=\"text-align: right;\">1.36512 </td><td style=\"text-align: right;\">nan      </td></tr>\n",
       "<tr><td>[500, 138]</td><td style=\"text-align: right;\"> 500</td><td style=\"text-align: right;\"> 1.48</td><td style=\"text-align: right;\">   2.4</td><td style=\"text-align: right;\">1.52</td><td style=\"text-align: right;\">1.36512 </td><td style=\"text-align: right;\">nan      </td></tr>\n",
       "<tr><td>[230, 69] </td><td style=\"text-align: right;\"> 230</td><td style=\"text-align: right;\"> 1.51</td><td style=\"text-align: right;\">   3  </td><td style=\"text-align: right;\">1.52</td><td style=\"text-align: right;\">0.620294</td><td style=\"text-align: right;\">  2.22438</td></tr>\n",
       "<tr><td>[69, 138] </td><td style=\"text-align: right;\"> 138</td><td style=\"text-align: right;\"> 1.51</td><td style=\"text-align: right;\">   3  </td><td style=\"text-align: right;\">1.52</td><td style=\"text-align: right;\">0.386797</td><td style=\"text-align: right;\">  1.47636</td></tr>\n",
       "<tr><td>[69, 345] </td><td style=\"text-align: right;\"> 345</td><td style=\"text-align: right;\"> 1.51</td><td style=\"text-align: right;\">   3  </td><td style=\"text-align: right;\">1.52</td><td style=\"text-align: right;\">0.922932</td><td style=\"text-align: right;\">  3.71306</td></tr>\n",
       "<tr><td>[69, 440] </td><td style=\"text-align: right;\"> 440</td><td style=\"text-align: right;\"> 1.48</td><td style=\"text-align: right;\">   2.4</td><td style=\"text-align: right;\">1.52</td><td style=\"text-align: right;\">1.1884  </td><td style=\"text-align: right;\">  3.71317</td></tr>\n",
       "<tr><td>[138, 230]</td><td style=\"text-align: right;\"> 230</td><td style=\"text-align: right;\"> 1.51</td><td style=\"text-align: right;\">   3  </td><td style=\"text-align: right;\">1.52</td><td style=\"text-align: right;\">0.620294</td><td style=\"text-align: right;\">  2.22438</td></tr>\n",
       "<tr><td>[138, 345]</td><td style=\"text-align: right;\"> 345</td><td style=\"text-align: right;\"> 1.51</td><td style=\"text-align: right;\">   3  </td><td style=\"text-align: right;\">1.52</td><td style=\"text-align: right;\">0.922932</td><td style=\"text-align: right;\">  3.71306</td></tr>\n",
       "<tr><td>[138, 440]</td><td style=\"text-align: right;\"> 440</td><td style=\"text-align: right;\"> 1.48</td><td style=\"text-align: right;\">   2.4</td><td style=\"text-align: right;\">1.52</td><td style=\"text-align: right;\">1.1884  </td><td style=\"text-align: right;\">  3.71317</td></tr>\n",
       "<tr><td>[230, 345]</td><td style=\"text-align: right;\"> 345</td><td style=\"text-align: right;\"> 1.51</td><td style=\"text-align: right;\">   3  </td><td style=\"text-align: right;\">1.52</td><td style=\"text-align: right;\">0.922932</td><td style=\"text-align: right;\">  3.71306</td></tr>\n",
       "<tr><td>[230, 440]</td><td style=\"text-align: right;\"> 440</td><td style=\"text-align: right;\"> 1.48</td><td style=\"text-align: right;\">   2.4</td><td style=\"text-align: right;\">1.52</td><td style=\"text-align: right;\">1.1884  </td><td style=\"text-align: right;\">  3.71317</td></tr>\n",
       "<tr><td>[230, 500]</td><td style=\"text-align: right;\"> 500</td><td style=\"text-align: right;\"> 1.48</td><td style=\"text-align: right;\">   2.4</td><td style=\"text-align: right;\">1.52</td><td style=\"text-align: right;\">1.36512 </td><td style=\"text-align: right;\">nan      </td></tr>\n",
       "<tr><td>[230, 765]</td><td style=\"text-align: right;\"> 765</td><td style=\"text-align: right;\"> 1.48</td><td style=\"text-align: right;\">   2  </td><td style=\"text-align: right;\">1.52</td><td style=\"text-align: right;\">2.25133 </td><td style=\"text-align: right;\">nan      </td></tr>\n",
       "<tr><td>[345, 440]</td><td style=\"text-align: right;\"> 440</td><td style=\"text-align: right;\"> 1.48</td><td style=\"text-align: right;\">   2.4</td><td style=\"text-align: right;\">1.52</td><td style=\"text-align: right;\">1.1884  </td><td style=\"text-align: right;\">  3.71317</td></tr>\n",
       "<tr><td>[345, 500]</td><td style=\"text-align: right;\"> 500</td><td style=\"text-align: right;\"> 1.48</td><td style=\"text-align: right;\">   2.4</td><td style=\"text-align: right;\">1.52</td><td style=\"text-align: right;\">1.36512 </td><td style=\"text-align: right;\">nan      </td></tr>\n",
       "<tr><td>[345, 765]</td><td style=\"text-align: right;\"> 765</td><td style=\"text-align: right;\"> 1.48</td><td style=\"text-align: right;\">   2  </td><td style=\"text-align: right;\">1.52</td><td style=\"text-align: right;\">2.25133 </td><td style=\"text-align: right;\">nan      </td></tr>\n",
       "<tr><td>[440, 500]</td><td style=\"text-align: right;\"> 500</td><td style=\"text-align: right;\"> 1.48</td><td style=\"text-align: right;\">   2.4</td><td style=\"text-align: right;\">1.52</td><td style=\"text-align: right;\">1.36512 </td><td style=\"text-align: right;\">nan      </td></tr>\n",
       "<tr><td>[440, 765]</td><td style=\"text-align: right;\"> 765</td><td style=\"text-align: right;\"> 1.48</td><td style=\"text-align: right;\">   2  </td><td style=\"text-align: right;\">1.52</td><td style=\"text-align: right;\">2.25133 </td><td style=\"text-align: right;\">nan      </td></tr>\n",
       "<tr><td>[500, 765]</td><td style=\"text-align: right;\"> 765</td><td style=\"text-align: right;\"> 1.48</td><td style=\"text-align: right;\">   2  </td><td style=\"text-align: right;\">1.52</td><td style=\"text-align: right;\">2.25133 </td><td style=\"text-align: right;\">nan      </td></tr>\n",
       "</tbody>\n",
       "</table>"
      ],
      "text/plain": [
       "<IPython.core.display.HTML object>"
      ]
     },
     "metadata": {},
     "output_type": "display_data"
    }
   ],
   "source": [
    "tvm=[]\n",
    "tkcs=[]\n",
    "tfsfl=[]\n",
    "tkg=[]\n",
    "tdffff=[]\n",
    "tdfffl=[]\n",
    "for v in vff:\n",
    "  vm = max(v)\n",
    "  kcs=tabKcs(vm)\n",
    "  fsfl=tabFsfl(vm)\n",
    "  kg=nbr5422.fatorKgFFFrenteLenta(types.gap.CONDUTOR_PARALELO)\n",
    "  tdffff.append(nbr5422.espacFFFreqFund(Us=float(vm), Ftmo=1.1, kaff=0.9, kgff=kg))\n",
    "  tdfffl.append(nbr5422.espacFFFrenteLenta(Us=float(vm), Kcs=kcs, Fsfl=fsfl, kafl=0.95, kg=kg))\n",
    "  tvm.append(vm)\n",
    "  tkcs.append(kcs)\n",
    "  tfsfl.append(fsfl)\n",
    "  tkg.append(kg)\n",
    "\n",
    "table = zip(vff, tvm, tkcs, tfsfl, tkg, tdffff, tdfffl)\n",
    "display(HTML(tabulate(table, headers=['V','Vn', 'Kcs', 'FsFl', 'kg', 'dff_ff', 'dff_fl'], tablefmt='html')))"
   ]
  },
  {
   "cell_type": "code",
   "execution_count": 11,
   "metadata": {},
   "outputs": [
    {
     "name": "stdout",
     "output_type": "stream",
     "text": [
      "834 9.204407676193489 5.528953037057247\n",
      "903 9.728807676193489 6.3123427803182715\n",
      "569 7.190407676193488 3.9611964383128333\n",
      "638 7.714807676193488 4.793914711453032\n",
      "299 5.138407676193489 1.9658351420659779\n",
      "207 4.439207676193488 1.064941592832497\n",
      "414 6.012407676193488 3.3817600717219123\n",
      "509 6.734407676193488 3.2896733377900764\n",
      "368 5.662807676193489 2.7788911599301387\n",
      "483 6.536807676193488 4.3726336282720855\n",
      "578 7.258807676193489 4.066192532517563\n",
      "575 7.236007676193489 5.8474904417211695\n",
      "670 7.958007676193488 5.201408079121558\n",
      "730 8.414007676193489 6.000859237637737\n",
      "995 10.428007676193488 7.420448755292127\n",
      "785 8.832007676193488 6.773325546264284\n",
      "845 9.288007676193487 7.658158764099405\n",
      "1110 11.32 8.90456073185179\n",
      "940 10.010007676193489 9.1465721336855\n",
      "1205 12.270000000000001 10.210911259037026\n",
      "1265 12.870000000000001 11.072456956605922\n"
     ]
    }
   ],
   "source": [
    "# Cálculo pela NBR 5422:1985, método alternativo\n",
    "for v in vff:\n",
    "  vm = v[0]+v[1]\n",
    "  pu=tabFsfl(max(v))\n",
    "  dff1 = nbr1985.distHorizFF(float(vm))\n",
    "  dff2 = nbr1985.distHorizFFAlt(float(vm), pu)\n",
    "  print(vm, dff1, dff2)"
   ]
  },
  {
   "cell_type": "code",
   "execution_count": 34,
   "metadata": {},
   "outputs": [
    {
     "data": {
      "text/plain": [
       "1.48"
      ]
     },
     "execution_count": 34,
     "metadata": {},
     "output_type": "execute_result"
    }
   ],
   "source": [
    "pu"
   ]
  },
  {
   "cell_type": "code",
   "execution_count": null,
   "metadata": {},
   "outputs": [],
   "source": []
  }
 ],
 "metadata": {
  "kernelspec": {
   "display_name": "Python 3",
   "language": "python",
   "name": "python3"
  },
  "language_info": {
   "codemirror_mode": {
    "name": "ipython",
    "version": 3
   },
   "file_extension": ".py",
   "mimetype": "text/x-python",
   "name": "python",
   "nbconvert_exporter": "python",
   "pygments_lexer": "ipython3",
   "version": "3.11.3"
  },
  "orig_nbformat": 4
 },
 "nbformat": 4,
 "nbformat_minor": 2
}
