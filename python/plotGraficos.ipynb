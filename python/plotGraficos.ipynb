{
 "cells": [
  {
   "attachments": {},
   "cell_type": "markdown",
   "metadata": {},
   "source": [
    "# Plotagem de gráficos"
   ]
  },
  {
   "cell_type": "code",
   "execution_count": 2,
   "metadata": {},
   "outputs": [],
   "source": [
    "import numpy as np\n",
    "import matplotlib.pyplot as plt\n",
    "from normaslt import types, nbr5422"
   ]
  },
  {
   "attachments": {},
   "cell_type": "markdown",
   "metadata": {},
   "source": [
    "## Fator de efetividade de vento no vão\n",
    "O gráfico original (figura 17) vai até 800 m, mas usando a fórmula indiscriminadamente o gráfico volta...? Necessário saturar em um valor?"
   ]
  },
  {
   "cell_type": "code",
   "execution_count": 3,
   "metadata": {},
   "outputs": [
    {
     "ename": "AttributeError",
     "evalue": "module 'normaslt.nbr5422' has no attribute 'fatorVentoVao'",
     "output_type": "error",
     "traceback": [
      "\u001b[0;31m---------------------------------------------------------------------------\u001b[0m",
      "\u001b[0;31mAttributeError\u001b[0m                            Traceback (most recent call last)",
      "Cell \u001b[0;32mIn[3], line 5\u001b[0m\n\u001b[1;32m      3\u001b[0m \u001b[38;5;28;01mfor\u001b[39;00m i \u001b[38;5;129;01min\u001b[39;00m L:\n\u001b[1;32m      4\u001b[0m   temp \u001b[38;5;241m=\u001b[39m \u001b[38;5;28;01mlambda\u001b[39;00m i:nbr5422\u001b[38;5;241m.\u001b[39mfatorVentoVao(i)\n\u001b[0;32m----> 5\u001b[0m   g\u001b[38;5;241m.\u001b[39mappend(\u001b[43mtemp\u001b[49m\u001b[43m(\u001b[49m\u001b[43mi\u001b[49m\u001b[43m)\u001b[49m)\n\u001b[1;32m      6\u001b[0m plt\u001b[38;5;241m.\u001b[39mplot(L, g)\n\u001b[1;32m      7\u001b[0m plt\u001b[38;5;241m.\u001b[39mshow()\n",
      "Cell \u001b[0;32mIn[3], line 4\u001b[0m, in \u001b[0;36m<lambda>\u001b[0;34m(i)\u001b[0m\n\u001b[1;32m      2\u001b[0m g \u001b[38;5;241m=\u001b[39m []\n\u001b[1;32m      3\u001b[0m \u001b[38;5;28;01mfor\u001b[39;00m i \u001b[38;5;129;01min\u001b[39;00m L:\n\u001b[0;32m----> 4\u001b[0m   temp \u001b[38;5;241m=\u001b[39m \u001b[38;5;28;01mlambda\u001b[39;00m i:\u001b[43mnbr5422\u001b[49m\u001b[38;5;241;43m.\u001b[39;49m\u001b[43mfatorVentoVao\u001b[49m(i)\n\u001b[1;32m      5\u001b[0m   g\u001b[38;5;241m.\u001b[39mappend(temp(i))\n\u001b[1;32m      6\u001b[0m plt\u001b[38;5;241m.\u001b[39mplot(L, g)\n",
      "\u001b[0;31mAttributeError\u001b[0m: module 'normaslt.nbr5422' has no attribute 'fatorVentoVao'"
     ]
    }
   ],
   "source": [
    "L = np.arange(100,1200,5)\n",
    "g = []\n",
    "for i in L:\n",
    "  temp = lambda i:nbr5422.fatorVentoVao(i)\n",
    "  g.append(temp(i))\n",
    "plt.plot(L, g)\n",
    "plt.show()"
   ]
  },
  {
   "cell_type": "code",
   "execution_count": null,
   "metadata": {},
   "outputs": [],
   "source": []
  }
 ],
 "metadata": {
  "kernelspec": {
   "display_name": "Python 3 (ipykernel)",
   "language": "python",
   "name": "python3"
  },
  "language_info": {
   "codemirror_mode": {
    "name": "ipython",
    "version": 3
   },
   "file_extension": ".py",
   "mimetype": "text/x-python",
   "name": "python",
   "nbconvert_exporter": "python",
   "pygments_lexer": "ipython3",
   "version": "3.11.8"
  }
 },
 "nbformat": 4,
 "nbformat_minor": 4
}
