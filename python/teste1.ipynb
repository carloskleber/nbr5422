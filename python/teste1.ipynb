{
 "cells": [
  {
   "cell_type": "markdown",
   "metadata": {},
   "source": [
    "# NBR 5422:2024 - teste metodologia em Python/ Jupyter\n",
    "## Parâmetros iniciais"
   ]
  },
  {
   "cell_type": "code",
   "execution_count": 151,
   "metadata": {},
   "outputs": [],
   "source": [
    "from normaslt import types, nbr5422\n",
    "from tabulate import tabulate\n",
    "from IPython.display import HTML, display\n",
    "import pandas as pd\n",
    "import importlib\n",
    "\n",
    "# Recarrega as libs para fins de desenvolvimento\n",
    "importlib.reload(types)\n",
    "importlib.reload(nbr5422);"
   ]
  },
  {
   "cell_type": "code",
   "execution_count": 161,
   "metadata": {},
   "outputs": [],
   "source": [
    "# Dados de projeto\n",
    "Us = types.tensao._362kV\n",
    "rugTerreno = types.rug.B\n",
    "alt = 100\n",
    "dra = 0.9\n",
    "h = 11\n",
    "regiao = types.regiao.SE\n",
    "hmax = 0.\n",
    "L = 450.\n",
    "hmed = 25.\n",
    "dcond = 2e-2\n",
    "VrB = 15.\n",
    "# Gap inicial\n",
    "d = 4.\n",
    "gaptorre = types.gap.CONDUTOR_BRACO\n",
    "alpha = 0.33"
   ]
  },
  {
   "cell_type": "markdown",
   "metadata": {},
   "source": [
    "## Cálculo dos parâmetros de projeto"
   ]
  },
  {
   "cell_type": "code",
   "execution_count": 165,
   "metadata": {},
   "outputs": [
    {
     "ename": "TypeError",
     "evalue": "unsupported operand type(s) for ^: 'float' and 'int'",
     "output_type": "error",
     "traceback": [
      "\u001b[0;31m---------------------------------------------------------------------------\u001b[0m",
      "\u001b[0;31mTypeError\u001b[0m                                 Traceback (most recent call last)",
      "Cell \u001b[0;32mIn[165], line 48\u001b[0m\n\u001b[1;32m     45\u001b[0m mu \u001b[38;5;241m=\u001b[39m nbr5422\u001b[38;5;241m.\u001b[39mmassaAr(alt, t)\n\u001b[1;32m     47\u001b[0m \u001b[38;5;66;03m# 8.4.2. Pressão dinâmica de referência - 10 min e 3 s\u001b[39;00m\n\u001b[0;32m---> 48\u001b[0m q010 \u001b[38;5;241m=\u001b[39m \u001b[38;5;241;43m0.5\u001b[39;49m\u001b[43m \u001b[49m\u001b[38;5;241;43m*\u001b[39;49m\u001b[43m \u001b[49m\u001b[43mmu\u001b[49m\u001b[43m \u001b[49m\u001b[38;5;241;43m*\u001b[39;49m\u001b[43m \u001b[49m\u001b[43mVp10\u001b[49m\u001b[38;5;241;43m^\u001b[39;49m\u001b[38;5;241;43m2\u001b[39;49m\n\u001b[1;32m     49\u001b[0m q03 \u001b[38;5;241m=\u001b[39m \u001b[38;5;241m0.5\u001b[39m \u001b[38;5;241m*\u001b[39m mu \u001b[38;5;241m*\u001b[39m Vp3\u001b[38;5;241m^\u001b[39m\u001b[38;5;241m2\u001b[39m\n\u001b[1;32m     50\u001b[0m Cxc \u001b[38;5;241m=\u001b[39m nbr5422\u001b[38;5;241m.\u001b[39marrastoCabos(d)\n",
      "\u001b[0;31mTypeError\u001b[0m: unsupported operand type(s) for ^: 'float' and 'int'"
     ]
    }
   ],
   "source": [
    "# 4.8.5 - Fator de correção atmosférico\n",
    "# Deve-se entrar a distancia no ar antes de calcular os gaps?\n",
    "kafl = nbr5422.fatAtmFrenteLenta(dra, h, d)\n",
    "# 4.9.4.3 - Fator de conversão do período de integração\n",
    "kint = nbr5422.fatCorrInt3s(rugTerreno)\n",
    "# 4.10.3.7 - Fator de correcao de rugosidade\n",
    "Vr = nbr5422.fatCorrRug(rugTerreno) * VrB\n",
    "# 4.10.3.9 - Fator de turbulencia;\n",
    "Vp10 = Vr * nbr5422.fatTurb(regiao)\n",
    "# 8.2.2.1\n",
    "Vp30s = nbr5422.fatCorrInt30s(rugTerreno) * Vp10 \n",
    "# 8.2.3.4\n",
    "Vp3s = 1.15 * kint * Vp10\n",
    "# 7.2.1.2. Parcelas de segurança\n",
    "Pstip = 0.90\n",
    "Pslim = 0.60\n",
    "# 7.2.5. Parcelas elétricas\n",
    "if 'Kcstip' not in locals():\n",
    "    Kcstip = 1.51\n",
    "\n",
    "if 'Kcslim' not in locals():\n",
    "      Kcslim = 1.40\n",
    "\n",
    "# Projeto de isolamento\n",
    "zfl = 0.06\n",
    "if 'Fsfl' not in locals():\n",
    "    if Us.nom() <= 69:\n",
    "        Fsfl = 3\n",
    "    elif Us.nom() <= 440:\n",
    "        Fsfl = 2.5\n",
    "    elif Us.nom() <= 525:\n",
    "        Fsfl = 2.3\n",
    "    else:\n",
    "        Fsfl = 2.2\n",
    "\n",
    "# Pode-se definir o fator Kg na torre ou usar o valor típico pelo tipo do gap\n",
    "if 'kgtorre' not in locals():\n",
    "    kgtorre = nbr5422.fatKgFTFrenteLenta(gaptorre)\n",
    "\n",
    "kgvao = nbr5422.fatKgFFFrenteLenta(types.gap.CONDUTOR_PARALELO, alpha)\n",
    "\n",
    "# Ação do vento\n",
    "# Temperatura de referência para pressão de vento\n",
    "t = 15\n",
    "mu = nbr5422.massaAr(alt, t)\n",
    "\n",
    "# 8.4.2. Pressão dinâmica de referência - 10 min e 3 s\n",
    "q010 = 0.5 * mu * Vp10^2\n",
    "q03 = 0.5 * mu * Vp3^2\n",
    "Cxc = nbr5422.arrastoCabos(d)\n",
    "Gc = nbr5422.fatorVentoCabo(rugTerreno, h)\n",
    "Gl = nbr5422.fatorVentoVao(L)\n",
    "# 8.5.2.2. Ação do vento sobre os cabos\n",
    "Ac = q010 * Cxc * Gc * Gl * d * L * sin(omega)^2\n",
    "fprintf('Ação do vento sobre cabo - vento 10 minutos:\\n')\n",
    "fprintf('- Coeficiente de arrasto (Cxc):  %d\\n', Cxc)\n",
    "fprintf('- Fator combinado de vento (Gc): %d\\n', Gc)\n",
    "fprintf('- Fator de efetividade (Gl):     %d\\n', Gl)\n",
    "fprintf('- Pressão dinâmica (q0):         %d Pa\\n', q010)\n",
    "\n",
    "# 8.8.3.1. Força exercida pelo vento, suporte cilindrico\n",
    "Atc = q010 * cxtc(d, Vp) * Gt * dtc  * Ltc * (sin(theta))^3\n",
    "\n",
    "# Ângulo de balanço\n",
    "ang = nbr5422.anguloBalanco(v, q0, d, pcond, Vv, Vp)\n",
    "\n",
    "# Projeção horizontal\n",
    "\n",
    "# Faixa de passagem"
   ]
  },
  {
   "cell_type": "markdown",
   "metadata": {},
   "source": [
    "# Distâncias de segurança\n",
    "Cria uma tabela com as alturas do suporte para cada obstáculo e flecha"
   ]
  },
  {
   "cell_type": "code",
   "execution_count": 140,
   "metadata": {},
   "outputs": [
    {
     "data": {
      "text/html": [
       "<table>\n",
       "<thead>\n",
       "<tr><th>                          </th><th style=\"text-align: right;\">  Dvtip,n</th><th style=\"text-align: right;\">  Dvtip,s</th><th style=\"text-align: right;\">  Dvlim,n</th><th style=\"text-align: right;\">  Dvlim,s</th></tr>\n",
       "</thead>\n",
       "<tbody>\n",
       "<tr><td>acesso somente a pedestres</td><td style=\"text-align: right;\">  7.13679</td><td style=\"text-align: right;\">  6.30596</td><td style=\"text-align: right;\">  6.23679</td><td style=\"text-align: right;\">  5.63679</td></tr>\n",
       "<tr><td>máquinas agrícolas        </td><td style=\"text-align: right;\">  7.56004</td><td style=\"text-align: right;\">  6.76018</td><td style=\"text-align: right;\">  6.66004</td><td style=\"text-align: right;\">  6.06004</td></tr>\n",
       "<tr><td>ferrovia eletrificada     </td><td style=\"text-align: right;\"> 13.1796 </td><td style=\"text-align: right;\"> 12.3545 </td><td style=\"text-align: right;\"> 12.2796 </td><td style=\"text-align: right;\"> 11.6796 </td></tr>\n",
       "<tr><td>ferrovia não eletrificada </td><td style=\"text-align: right;\"> 10.06   </td><td style=\"text-align: right;\">  9.26018</td><td style=\"text-align: right;\">  9.16004</td><td style=\"text-align: right;\">  8.56004</td></tr>\n",
       "<tr><td>rodovia                   </td><td style=\"text-align: right;\">  9.06004</td><td style=\"text-align: right;\">  8.26018</td><td style=\"text-align: right;\">  8.16004</td><td style=\"text-align: right;\">  7.56004</td></tr>\n",
       "</tbody>\n",
       "</table>"
      ],
      "text/plain": [
       "<IPython.core.display.HTML object>"
      ]
     },
     "metadata": {},
     "output_type": "display_data"
    }
   ],
   "source": [
    "flecha = {10., 11., 12., 13} # a ser calculado\n",
    "obsValidos = {types.obs.PEDESTRE, types.obs.MAQ_AGRICOLA, types.obs.RODOVIA, types.obs.FERROVIA_NAO_ELETRIFICADA, types.obs.FERROVIA_ELETRIFICADA}\n",
    "Fsfl = 2.2\n",
    "data = []\n",
    "for obs in obsValidos:\n",
    "    row_data = []\n",
    "    for reg in types.amp:\n",
    "        row_data.append(nbr5422.distSegurancaVert(obs, reg, 0., Us.nom(), Fsfl, kafl))\n",
    "\n",
    "    data.append(row_data)\n",
    "\n",
    "table = tabulate(data, headers=['Dv'+e.suf() for e in types.amp], showindex=[e.value for e in obsValidos], tablefmt='html')\n",
    "display(HTML(table))"
   ]
  },
  {
   "cell_type": "code",
   "execution_count": null,
   "metadata": {},
   "outputs": [],
   "source": []
  }
 ],
 "metadata": {
  "language_info": {
   "name": "python"
  }
 },
 "nbformat": 4,
 "nbformat_minor": 2
}
