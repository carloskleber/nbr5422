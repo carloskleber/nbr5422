{
 "cells": [
  {
   "cell_type": "markdown",
   "id": "ca013c68-b27f-4850-b579-669378e35e49",
   "metadata": {},
   "source": [
    "# Comparação de distâncias de segurança\n",
    "Cálculo da flecha e distâncias verticais, para uma lista de obstáculos.\n",
    "\n",
    "Determina-se a altura do suporte de acordo com a pior condição de obstáculo e risco térmico. Todas as alturas ficam referenciadas ao solo, supondo o mesmo vão para todos os obstáculos, somando quando for o caso a altura determinada.\n",
    "\n",
    "Notebook dinâmico"
   ]
  },
  {
   "cell_type": "code",
   "execution_count": 2,
   "id": "9892b489-ddbf-41c7-827b-bd2f8cb6fff2",
   "metadata": {},
   "outputs": [],
   "source": [
    "from normaslt import types, nbr5422, nbr1985, iec, en, geral\n",
    "from tabulate import tabulate\n",
    "import pandas as pd\n",
    "import numpy as np\n",
    "from math import sqrt\n",
    "from IPython.display import HTML, display\n",
    "from ipywidgets import interactive, Dropdown, FloatSlider, FloatText"
   ]
  },
  {
   "cell_type": "code",
   "execution_count": 3,
   "id": "03d5acb1-082e-4719-a949-4fb829a855c1",
   "metadata": {},
   "outputs": [
    {
     "data": {
      "application/vnd.jupyter.widget-view+json": {
       "model_id": "2551a9578ecf46f09b38fa481b1275b6",
       "version_major": 2,
       "version_minor": 0
      },
      "text/plain": [
       "interactive(children=(Dropdown(description='Tensão:', index=5, options=(<tensao._15kV: (13.8, 15.0)>, <tensao.…"
      ]
     },
     "execution_count": 3,
     "metadata": {},
     "output_type": "execute_result"
    }
   ],
   "source": [
    "def tabelaDist(vn: types.tensao, cabo: geral.dbCabo, vao, t1, t5, t15):\n",
    "\n",
    "    eds = 0.2\n",
    "    t0 = 25.\n",
    "    f15, T15 = geral.equacaoEstado(cabo.p, vao, cabo.T * eds, cabo.S, cabo.E, cabo.alfa1, t0, t15)\n",
    "    f5, T5 = geral.equacaoEstado(cabo.p, vao, cabo.T * eds, cabo.S, cabo.E, cabo.alfa1, t0, t5)\n",
    "    f1, T1 = geral.equacaoEstado(cabo.p, vao, cabo.T * eds, cabo.S, cabo.E, cabo.alfa1, t0, t1)\n",
    "    obs = [types.obs.PEDESTRE,\n",
    "      types.obs.MAQ_AGRICOLA,\n",
    "      types.obs.RODOVIA,\n",
    "      types.obs.FERROVIA_NAO_ELETRIFICADA,\n",
    "      types.obs.FERROVIA_ELETRIFICADA,\n",
    "      types.obs.SUPORTE_FERROVIA,\n",
    "      types.obs.AGUAS_NAVEGAVEIS,\n",
    "      types.obs.AGUAS_NAO_NAVEGAVEIS,\n",
    "      types.obs.LINHA_TRANSMISSAO,\n",
    "      types.obs.LINHA_TELECOM,\n",
    "      types.obs.VEGETACAO_PERM,\n",
    "      types.obs.CULT_AGRIC_PERM,\n",
    "      types.obs.INSTALACAO_TRANSP]\n",
    "    hobs = [3.9, 4., 5.4, 6.4, 9.7, 5, 20, 3.6, 20, 10, 10, 4, 10]\n",
    "    Fsfl = 2.2\n",
    "    kafl = 1\n",
    "    dv1 = []\n",
    "    dv2 = []\n",
    "    dv3 = []\n",
    "    dv4 = []\n",
    "    \n",
    "    for o, h in zip(obs, hobs):        \n",
    "        dv1.append(nbr5422.distSegurancaVert(o, types.amp.TIPICA_NOMINAL, h, vn.nom, Fsfl, kafl))\n",
    "        dv2.append(nbr5422.distSegurancaVert(o, types.amp.TIPICA_SOBRECORRENTE, h, vn.nom, Fsfl, kafl))\n",
    "        dv3.append(nbr5422.distSegurancaVert(o, types.amp.LIMITE_NOMINAL, h, vn.nom, Fsfl, kafl))\n",
    "        dv4.append(nbr5422.distSegurancaVert(o, types.amp.LIMITE_SOBRECORRENTE, h, vn.nom, Fsfl, kafl))\n",
    "\n",
    "    hs1 = [x + f15 for x in dv1]\n",
    "    hs2 = [x + f5 for x in dv2]\n",
    "    hs3 = [x + f1 for x in dv3]\n",
    "    hs4 = [x + f1 for x in dv4]\n",
    "    hmin = max(max(hs1), max(hs2), max(hs3), max(hs4))\n",
    "    table = pd.DataFrame({'Tipo': obs, 'Altura obstáculo': hobs, 'dVtn': dv1, 'dVts': dv2, 'dVln': dv3, 'dVls': dv4, 'htn': hs1, 'hts': hs2, 'hln': hs3, 'hls': hs4})\n",
    "    display(tabulate(table, tablefmt='html', headers=['Tipo', '$h_{obs}$ (m)', '$dV_{tn}$(m)', '$dV_{ts}$ (m)', '$dV_{ln}$ (m)', '$dV_{ln}$ (m)', '$h_{tn}$ (m)', '$h_{ts}$ (m)', '$h_{ln}$ (m)', '$h_{ln}$ (m)'])) \n",
    "    print('Flechas calculadas por risco térmico: ')\n",
    "    print('15%%: %.2f m' % (f15))\n",
    "    print('5%%: %.2f m' % (f5))\n",
    "    print('1%%: %.2f m' % (f1))\n",
    "    print('Altura mínima do suporte: %.2f m' % hmin)\n",
    "    print('Critério determinante: ', obs[hs1.index(hmin)])\n",
    "\n",
    "cabo_dropdown = Dropdown(options=geral.dbCabo, description='Cabo:', value=geral.dbCabo.CAA_RAIL)\n",
    "tensoes_dropdown = Dropdown(options=types.tensao, description='Tensão:', value=types.tensao._145kV)\n",
    "interactive_table1 = interactive(tabelaDist, \n",
    "                                 vn=tensoes_dropdown, \n",
    "                                 cabo=cabo_dropdown, \n",
    "                                 vao=FloatSlider(description='Vão (m)', value=350, min=200, max=800, step=25),\n",
    "                                 t15=FloatText(description='t₁₅ (°C)', value=59.6),\n",
    "                                 t5=FloatText(description='t₅ (°C)', value=67.1),\n",
    "                                 t1=FloatText(description='t₁ (°C)', value=72.9))\n",
    "interactive_table1"
   ]
  },
  {
   "cell_type": "code",
   "execution_count": null,
   "id": "e9c516e1-c9a1-4da2-82e4-a233ff989f09",
   "metadata": {},
   "outputs": [],
   "source": []
  }
 ],
 "metadata": {
  "kernelspec": {
   "display_name": "Python 3 (ipykernel)",
   "language": "python",
   "name": "python3"
  },
  "language_info": {
   "codemirror_mode": {
    "name": "ipython",
    "version": 3
   },
   "file_extension": ".py",
   "mimetype": "text/x-python",
   "name": "python",
   "nbconvert_exporter": "python",
   "pygments_lexer": "ipython3",
   "version": "3.12.4"
  }
 },
 "nbformat": 4,
 "nbformat_minor": 5
}
