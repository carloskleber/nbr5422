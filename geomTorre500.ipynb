{
 "cells": [
  {
   "cell_type": "markdown",
   "metadata": {},
   "source": [
    "# Projeto de geometria de torre 525 kV\n",
    "Torre cross-rope feixe convencional.\n",
    "\n",
    "Comparação entre critérios de norma"
   ]
  },
  {
   "cell_type": "code",
   "execution_count": 1,
   "metadata": {},
   "outputs": [],
   "source": [
    "import normaslt as lt\n",
    "import numpy as np\n",
    "import matplotlib.pyplot as plt\n",
    "from matplotlib import patches\n",
    "from tabulate import tabulate\n",
    "from normaslt import nbr1985, nbr5422\n",
    "from math import ceil, degrees, radians, sin, cos, sqrt, exp\n",
    "from IPython.display import HTML, display\n",
    "from normaslt.geral import dbCabo\n",
    "from normaslt.draw import plot_dimension, plot_feixe, plot_cadeia, plot_distance_radius\n",
    "from normaslt.types import amp, obs"
   ]
  },
  {
   "cell_type": "code",
   "execution_count": 2,
   "metadata": {},
   "outputs": [],
   "source": [
    "# Dados de projeto\n",
    "v = 525.\n",
    "vmax = 550.\n",
    "ftmo = vmax/v\n",
    "# Cabo e vão\n",
    "cond = dbCabo.CAA_RAIL\n",
    "ncond = 4\n",
    "esp = 0.457\n",
    "l = 490\n",
    "vpvm = 0.7\n",
    "eds = 0.2\n",
    "# Variáveis climatológicas e ambientais\n",
    "tmed = 17.\n",
    "dra = 0.91\n",
    "alt = 400\n",
    "# Estrutura (mastro)\n",
    "ht = 20.\n",
    "d = 2.\n",
    "s = 1.5\n",
    "angC = 25 # ângulo do cabo da ponta do mastro a fase lateral, em relação a horizontal (graus)\n",
    "angM = 5 # ângulo do mastro em relação a vertical (graus)\n",
    "# Sobretensões (pu)\n",
    "muft = 2.5\n",
    "muff = 3.56\n",
    "sigma = 0.1\n",
    "alpha = 0.5\n",
    "# Fatores de gaps frente lenta\n",
    "# \"condutor-estrutura lateral\"\n",
    "kgfn = 1.45 + 0.35*(exp(-8. * s/d)-0.2) # Pegando cálculo na ref. Cigre original\n",
    "kgff = 1.62 # \"condutor-condutor\", alpha 0.5\n",
    "# Ventos de projeto (m/s)\n",
    "V50t10m = 96.0 / 3.6\n",
    "V30m30s = 135.0 / 3.6\n",
    "# Temperatura de operação (°C)\n",
    "ttipn = 50 # 15% risco térmico\n",
    "ttips = 60 # 5% risco térmico\n",
    "tlims = 70 # 1% risco térmico\n",
    "# Cadeia de isoladores\n",
    "dIsol = 0.280\n",
    "passoIsol = 0.170\n",
    "distEscoam = 0.380\n",
    "Decr = 14 # distância de escoamento (mm/kVff) - poluição muito leve."
   ]
  },
  {
   "cell_type": "markdown",
   "metadata": {},
   "source": [
    "## Elementos em comum\n",
    "\n",
    "### Cadeia de isoladores\n",
    "(não referenciado na NBR 5422:1985 mas de prática comum)\n",
    "$$\n",
    "n = \\left\\lceil \\frac{V_{\\max} \\, D_{ecr}}{D_{esc}} \\right\\rceil + n_{ex}\n",
    "$$\n",
    "Sendo $V_{\\max}$ a tensão operativa máxima de linha, $D_{esc}$ a relação de distância de escoamento, $D_{esc}$ a distância de escoamento por isolador, $n_{ex}$ a previsão de número de isoladores extras e $\\lceil x \\rceil$ a operação de arredondar para cima.\n",
    "\n",
    "### Flecha\n",
    "Pode-se usar aproximação da parábola:\n",
    "$$\n",
    "f = \\frac{p \\, A^2}{8 \\, T}\n",
    "$$\n",
    "Sendo $p$ o peso linear do cabo (N/m), $A$ o commprimento do vão (m) e $T$ a tração aplicada (N). A partir da flecha de referência (EDS), calcula-se as outras condições de temperatura pelas equações de estado."
   ]
  },
  {
   "cell_type": "code",
   "execution_count": 3,
   "metadata": {},
   "outputs": [
    {
     "name": "stdout",
     "output_type": "stream",
     "text": [
      "Cadeia de 22 isoladores, comprimento 3.74 m.\n",
      "Flechas: EDS 19.72 m, 50ºC: 21.13 m, 60ºC: 21.55 m, 70ºC: 21.96 m.\n"
     ]
    }
   ],
   "source": [
    "# Cadeia de isoladores\n",
    "nc = ceil(vmax * Decr / (distEscoam * 1e3)) + 1\n",
    "lcadeia = nc * passoIsol\n",
    "print(f\"Cadeia de {nc} isoladores, comprimento {lcadeia} m.\")\n",
    "# Dados catálogo Hubbell (p. 124)\n",
    "cfop = 2010\n",
    "cfon = 2080\n",
    "\n",
    "# Flechas\n",
    "f18 = lt.geral.flecha2(cond.p, l, cond.T * eds) # Na ref. indica 21 m, não ficou claro qual foi a condição, aparentemente em torno de 50°C.\n",
    "f50, _ = lt.geral.equacaoEstado(cond.p, l, cond.T * eds, cond.S, cond.E, cond.alfa1, 17, ttipn)\n",
    "f60, _ = lt.geral.equacaoEstado(cond.p, l, cond.T * eds, cond.S, cond.E, cond.alfa1, 17, ttips)\n",
    "f70, _ = lt.geral.equacaoEstado(cond.p, l, cond.T * eds, cond.S, cond.E, cond.alfa1, 17, tlims)\n",
    "print(f\"Flechas: EDS {f18:.2f} m, 50ºC: {f50:.2f} m, 60ºC: {f60:.2f} m, 70ºC: {f70:.2f} m.\")\n"
   ]
  },
  {
   "cell_type": "markdown",
   "metadata": {},
   "source": [
    "## Parte 1 - versão 1985\n",
    "\n",
    "### Altura condutor-solo (seção 10.3)\n",
    "\n",
    "#### Método convencional:\n",
    "$$\n",
    "D = a + 0.01 \\left( \\frac{D_U}{\\sqrt 3} - 50 \\right)\n",
    "$$\n",
    "\n",
    "Sendo $D_U =$ 1 m/kV referente a tensão máxima fase-fase da linha, $a =$ 6.0 m para locais acessíveis a pedestres.\n",
    "\n",
    "#### Método alternativo:\n",
    "$$\n",
    "D = a_1 + b \\, c \\left[ \\left(  \\frac{\\sqrt{2 \\, D_U}}{\\sqrt 3} P_U \\, + V_L \\right) \\frac{a_2}{500 \\, k}\\right]^{1.667}\n",
    "$$\n",
    "Sendo $a_2 =$ 1.15, $b =$ 1.03, $V_L =$ 0, e $P_U$ o valor de sobretensão de manobra a 98%. Para locais acessíveis a pedestres, $a_1 =$ 2.8, $c =$ 1.2, $k =$ 1.15."
   ]
  },
  {
   "cell_type": "code",
   "execution_count": 4,
   "metadata": {},
   "outputs": [
    {
     "name": "stdout",
     "output_type": "stream",
     "text": [
      "Distancias condutor-solo: dConv = 8.68 m, dAlt = 2.83 m.\n",
      "Altura do condutor na torre: 28.39 m.\n"
     ]
    }
   ],
   "source": [
    "a = 6.\n",
    "Du = vmax\n",
    "d1 = a + 0.01 * (Du/sqrt(3) - 50.)\n",
    "a1 = 2.8\n",
    "a2 = 1.15\n",
    "b = 1.03\n",
    "c = 1.2\n",
    "k = 1.\n",
    "vl = 0.\n",
    "pu = muft\n",
    "d2 = a1+b*c*((sqrt(2*Du/3) * pu)*a2/(500*k))**1.667\n",
    "print(f\"Distancias condutor-solo: dConv = {d1:.2f} m, dAlt = {d2:.2f} m.\")\n",
    "d = max(d1, d2)\n",
    "hTorre = d + f18\n",
    "print(f\"Altura do condutor na torre: {hTorre:.2f} m.\")"
   ]
  },
  {
   "cell_type": "markdown",
   "metadata": {},
   "source": [
    "### Ventos de projeto\n",
    "\n",
    "Ambas as versões usam o tempo de integração de 30 s. Para a versão de 1985 aplica-se a função correspondente a Figura 1.\n",
    "\n",
    "Correção pela altura do condutor:\n",
    "$$\n",
    "K_{alt} = \\left( \\frac{z}{10} \\right)^\\alpha\n",
    "$$\n",
    "sendo $\\alpha = 1/n =$ 0.16 para cat. B."
   ]
  },
  {
   "cell_type": "code",
   "execution_count": 8,
   "metadata": {},
   "outputs": [
    {
     "name": "stdout",
     "output_type": "stream",
     "text": [
      "Vento de projeto, tempo de integração 30 s: 35.25 m/s.\n"
     ]
    }
   ],
   "source": [
    "h = 17\n",
    "Vp30s = nbr1985.fatCorrInt(30) * nbr1985.fatCorrAlt(h) * V50t10m\n",
    "print(f\"Vento de projeto, tempo de integração 30 s: {Vp30s:.2f} m/s.\")"
   ]
  },
  {
   "cell_type": "markdown",
   "metadata": {},
   "source": [
    "### Ângulo de balanço\n",
    "\n",
    "Parcela comum às duas versões:\n",
    "\n",
    "$$\n",
    "\\beta = \\tg^{-1} \\left( K \\frac{q_0 \\, d \\, L_m}{p \\, L_p} \\right)\n",
    "$$\n",
    "\n",
    "Sendo $V_p$ o vento de projeto para período de integração de 30 s.\n",
    "\n",
    "Se considerar uma deflexão de linha $\\theta$, deve-se adaptar a formulação:\n",
    "$$\n",
    "\\beta = \\tg^{-1} \\left[ K \\frac{q_0 \\, d \\, L_m + 2 \\, T \\sin(0.5 \\, \\theta)}{p \\, L_p} \\right]\n",
    "$$\n",
    "\n",
    "Ângulos de balanço considerados\n",
    "\n",
    "* Frequência fundamental: período de retorno mínimo de 10 anos.\n",
    "* Impulso de frente lenta: período de retorno mínimo de 2 anos.\n",
    "* Impulso de frente rápida: não considera ação do vento."
   ]
  },
  {
   "cell_type": "code",
   "execution_count": 6,
   "metadata": {},
   "outputs": [
    {
     "ename": "NameError",
     "evalue": "name 'Vr' is not defined",
     "output_type": "error",
     "traceback": [
      "\u001b[31m---------------------------------------------------------------------------\u001b[39m",
      "\u001b[31mNameError\u001b[39m                                 Traceback (most recent call last)",
      "\u001b[36mCell\u001b[39m\u001b[36m \u001b[39m\u001b[32mIn[6]\u001b[39m\u001b[32m, line 2\u001b[39m\n\u001b[32m      1\u001b[39m mu = \u001b[32m1.22\u001b[39m\n\u001b[32m----> \u001b[39m\u001b[32m2\u001b[39m q050 = mu*\u001b[43mVr\u001b[49m^\u001b[32m2\u001b[39m/(\u001b[32m2\u001b[39m*\u001b[32m9.81\u001b[39m)\n\u001b[32m      4\u001b[39m beta1 = nbr1985.anguloBalanco(v, q0, d, pcond, VpVv=vpvm)\n",
      "\u001b[31mNameError\u001b[39m: name 'Vr' is not defined"
     ]
    }
   ],
   "source": [
    "mu = 1.22\n",
    "q050 = mu*Vr^2/(2*9.81)\n",
    "\n",
    "beta1 = nbr1985.anguloBalanco(v, q0, d, pcond, VpVv=vpvm)\n"
   ]
  },
  {
   "cell_type": "markdown",
   "metadata": {},
   "source": [
    "### Distâncias de segurança (seção 10)\n",
    "\n",
    "* Distâncias mínimas no suporte: período de retorno de 10 anos.\n",
    "* Distâncias mínimas entre condutores em suportes diferentes: período de retorno de 10 anos.\n",
    "* Distâncias mínima condutor-solo ou obstáculos: período de retorno de 50 anos.\n",
    "\n",
    "Método convencional:\n",
    "* Distância vertical entre fases, $U >$ 50 kV: não especificado.\n",
    "* Distâncias fase-terra:\n",
    "  * Para-raios: $D = 0.22 + 0.01 D_U$\n",
    "  * Suporte: $D = 0.03 + 0.005 D_U$\n",
    "  * Estais: $D = 0.09 + 0.006 D_U$\n",
    "\n",
    "Método alternativo:\n",
    "* Distâncias horizontais:\n",
    "$$\n",
    "D = b \\left( \\frac{V \\, P_U \\, a}{500 \\, k} \\right)^{1.667}\n",
    "$$\n",
    "Sendo $a =$ 1.15, $b =$ 1.03 e $k =$ 1.40. "
   ]
  },
  {
   "cell_type": "code",
   "execution_count": null,
   "metadata": {},
   "outputs": [],
   "source": []
  },
  {
   "cell_type": "markdown",
   "metadata": {},
   "source": [
    "### Geometria final"
   ]
  },
  {
   "cell_type": "code",
   "execution_count": null,
   "metadata": {},
   "outputs": [],
   "source": [
    "# Posição das fases\n",
    "xr = 3\n",
    "x1a = -xr\n",
    "x2a = -xr\n",
    "x3a = -xr\n",
    "x1b = xr\n",
    "x2b = xr\n",
    "x3b = xr\n",
    "# Alturas relativas à fase mais baixa\n",
    "y1a = 0.\n",
    "y2a = 3.\n",
    "y3a = 6.\n",
    "y1b = 0.\n",
    "y2b = 3.\n",
    "y3b = 6.\n",
    "hm = 1.5 # Altura da ancoragem do isolador de suspensao em relacao ao do line post\n",
    "alfa = radians(10.) # Angulo vertical do isolador line post\n",
    "lc = 0.2 # Comprimento da ferragem (m)\n",
    "f = 10. # Flecha (m)\n",
    "h = 10. # clearance (m)\n",
    "# Ângulos de balanço\n",
    "ang1 = radians(25.)\n",
    "ang2 = radians(45.)\n",
    "hbase = h + f + lc\n",
    "y1t = y1a+hbase\n",
    "y2t = y2a+hbase\n",
    "y3t = y3a+hbase\n",
    "\n",
    "# Estrutura\n",
    "ltsup = 1.2\n",
    "ltinf = 1.2\n",
    "ht = y3t + hm + 0.5\n",
    "\n",
    "plt.figure()\n",
    "# Estrutura metalica\n",
    "plt.plot([-ltinf/2, -ltsup/2], [0, ht],'k-')\n",
    "plt.plot([ltinf/2, ltsup/2], [0, ht],'k-')\n",
    "plt.plot([-ltsup/2, ltsup/2], [ht, ht],'k-')\n",
    "# Misulas\n",
    "plt.plot([-ltsup/2, x1a], [y1t, y1t],'g-', linewidth=3)\n",
    "plt.plot([-ltsup/2, x2a], [y2t, y2t],'g-', linewidth=3)\n",
    "plt.plot([-ltsup/2, x3a], [y3t, y3t],'g-', linewidth=3)\n",
    "plt.plot([-ltsup/2, x1a], [y1t+hm, y1t],'g-', linewidth=3)\n",
    "plt.plot([-ltsup/2, x2a], [y2t+hm, y2t],'g-', linewidth=3)\n",
    "plt.plot([-ltsup/2, x3a], [y3t+hm, y3t],'g-', linewidth=3)\n",
    "# Solo\n",
    "plt.plot([-4.5, 4.5], [0, 0],'k-', linewidth=0.5)\n",
    "plt.plot([x1a, x1a], [y1t, y1t-lc],'bo-')\n",
    "plt.plot([x2a, x2a], [y2t, y2t-lc],'bo-')\n",
    "plt.plot([x3a, x3a], [y3t, y3t-lc],'bo-')\n",
    "plt.plot([x1a, x1a], [y1t-0.2, y1t-lc+0.2],'r-')\n",
    "plt.plot([x2a, x2a], [y2t-0.2, y2t-lc+0.2],'r-')\n",
    "plt.plot([x3a, x3a], [y3t-0.2, y3t-lc+0.2],'r-')\n",
    "plt.plot([x1a, x1a+lc*sin(ang1)], [y1t, y1t-lc*cos(ang1)],'ro-')\n",
    "plt.plot([x2a, x2a+lc*sin(ang1)], [y2t, y2t-lc*cos(ang1)],'ro-')\n",
    "plt.plot([x3a, x3a+lc*sin(ang1)], [y3t, y3t-lc*cos(ang1)],'ro-')\n",
    "plt.gca().add_patch(patches.Arc((x1a, y1t), 2*lc, 2*lc, theta1=-90., theta2=degrees(ang1)-90.,lw=0.5,color='r'))\n",
    "plt.gca().add_patch(patches.Arc((x2a, y2t), 2*lc, 2*lc, theta1=-90., theta2=degrees(ang1)-90.,lw=0.5,color='r'))\n",
    "plt.gca().add_patch(patches.Arc((x3a, y3t), 2*lc, 2*lc, theta1=-90., theta2=degrees(ang1)-90.,lw=0.5,color='r'))\n",
    "# Espaçamentos\n",
    "dist1 = 1.\n",
    "dist2 = 2.\n",
    "plt.gca().add_patch(patches.Arc((x1a+lc*sin(ang1), y1t-lc*cos(ang1)), 2*dist1, 2*dist1, theta1=-90., theta2=90.,lw=0.5,color='r'))\n",
    "plt.gca().add_patch(patches.Arc((x2a+lc*sin(ang1), y2t-lc*cos(ang1)), 2*dist1, 2*dist1, theta1=-90., theta2=90.,lw=0.5,color='r'))\n",
    "plt.gca().add_patch(patches.Arc((x3a+lc*sin(ang1), y3t-lc*cos(ang1)), 2*dist1, 2*dist1, theta1=-90., theta2=90.,lw=0.5,color='r'))\n",
    "\n",
    "# teste de cota\n",
    "plot_dimension(plt, (x1a,y1t-lc), (x2a,y2t-lc), offset=1)\n",
    "plot_dimension(plt, (x2a,y2t-lc), (x3a,y3t-lc), offset=1)\n",
    "plot_dimension(plt, (x1a,y1t), (-ltsup/2,y1t), offset=-1.5)\n",
    "plt.axis('equal')\n",
    "plt.gca().set_ylim(18, ht+0.5)\n",
    "plt.show()"
   ]
  },
  {
   "cell_type": "markdown",
   "metadata": {},
   "source": [
    "## Parte 2 - versão 2024\n",
    "\n",
    "### Altura condutor-solo (seção 7.2)\n",
    "\n",
    "A título de exemplo, considerando aqui somente a altura típica nominal (a rigor deve-se observar as quatro condições):\n",
    "$$\n",
    "D_{Vtip,n} = P_{bV} + P_{stip} + P_{etip,n}\n",
    "$$\n",
    "\n",
    "Para a mesma premissa de acesso somente a pedestres: $k_g =$ 1.47, $P_{bV} =$ 4.20 m. A parcela elétrica $P_{etip,n}$ é calculada para a sobretensão de frente lenta (seção 9.4.1):\n",
    "$$\n",
    "P_e = 2.174 \\left[ \\exp \\left( \\frac{K_{CS} \\, \\sqrt 2 \\, U_S \\, F_{Sfl}}{1080 \\, \\sqrt 3 \\, k_{afl} \\, k_{zfl} \\, k_g}\\right) - 1\\right]\n",
    "$$\n",
    "Usando $k_{zfl} = 1 - 1.3 \\times 0.06$, recomendado pela norma, $K_{CS} = $ 1.35 (seção 7.2.5.1) e estimando $k_{afl}$ para uma distância de 10 m."
   ]
  },
  {
   "cell_type": "code",
   "execution_count": 5,
   "metadata": {},
   "outputs": [
    {
     "name": "stdout",
     "output_type": "stream",
     "text": [
      "Altura mínima condutor-solo: 7.86 m. Parcelas elétricas: Petip = 2.34 m, Pelim = 2.16 m\n",
      "Altura do condutor na torre: 27.58 m.\n"
     ]
    }
   ],
   "source": [
    "umidAbs = nbr5422.umidAbs(dra, tmed)\n",
    "kafl = nbr5422.fatAtmFrenteLenta(dra, umidAbs, 10.) \n",
    "h, Petip, Pelim = nbr5422.distSegurancaVert(obs.PEDESTRE, amp.TIPICA_NOMINAL, 0.0, v, muft, kafl)\n",
    "print(f\"Altura mínima condutor-solo: {h:.2f} m. Parcelas elétricas: Petip = {Petip:.2f} m, Pelim = {Pelim:.2f} m\")\n",
    "hTorre = h + f18\n",
    "print(f\"Altura do condutor na torre: {hTorre:.2f} m.\")"
   ]
  },
  {
   "cell_type": "markdown",
   "metadata": {},
   "source": [
    "### Ventos de projeto\n",
    "\n",
    "Para a versão 2024 aplica-se o fator de turbulência $K_{tur}$, considerado para a região Sul igual a 1.08, e o fator de integração $K_{int} =$ 1.22.\n",
    "$$\n",
    "V_{P30s} = K_{int} K_{tur} V_R\n",
    "$$"
   ]
  },
  {
   "cell_type": "code",
   "execution_count": 6,
   "metadata": {},
   "outputs": [
    {
     "name": "stdout",
     "output_type": "stream",
     "text": [
      "Vento de projeto, tempo de integração 30 s: 38.25 m/s.\n"
     ]
    }
   ],
   "source": [
    "ktur = 1.08\n",
    "h = 17.0 # Altura preliminar do cabo condutor\n",
    "Vp30s = nbr5422.fatCorrInt30s() * nbr5422.fatCorrAlt(h) * nbr5422.fatTurb(lt.types.regiao.S) * V50t10m\n",
    "print(f\"Vento de projeto, tempo de integração 30 s: {Vp30s:.2f} m/s.\")"
   ]
  },
  {
   "cell_type": "markdown",
   "metadata": {},
   "source": [
    "### Ângulo de balanço\n",
    "\n",
    "Para a versão 2024 aplica-se o desvio padrão para o ângulo máximo:\n",
    "$$\n",
    "\\begin{align*}\n",
    "\\sigma_\\beta & = 2.25 \\left[1 - \\exp \\left( -\\frac{V_p^2}{230}\\right) \\right] \\\\\n",
    "\\beta_{\\max} & = \\beta + 2 \\sigma_\\beta\n",
    "\\end{align*}\n",
    "$$\n",
    "\n",
    "Ângulos de balanço considerados (seção 9.6.2)\n",
    "\n",
    "* Frequência fundamental: período de retorno mínimo de 10 anos.\n",
    "* Impulso de frente lenta: período de retorno mínimo de 2 anos.\n",
    "* Impulso de frente rápida: não considera ação do vento."
   ]
  },
  {
   "cell_type": "code",
   "execution_count": 7,
   "metadata": {},
   "outputs": [
    {
     "name": "stdout",
     "output_type": "stream",
     "text": [
      "Pressão de vento: 848.21 N/m²\n",
      "Ângulo de balanço médio 35.1°, máximo 39.6º.\n"
     ]
    }
   ],
   "source": [
    "mu = nbr5422.massaAr(alt, tmed)\n",
    "q050 = 0.5*mu*Vp30s**2\n",
    "print(f\"Pressão de vento: {q050:.2f} N/m²\")\n",
    "beta1 = nbr5422.anguloBalanco(Vp30s, q050, cond.d, cond.p, VpVv=vpvm)\n",
    "betamin, betamax = nbr5422.anguloBalancoAssincrono(Vp30s, beta1) \n",
    "print(f\"Ângulo de balanço médio {degrees(beta1):.1f}°, máximo {degrees(betamax):.1f}º.\")"
   ]
  },
  {
   "cell_type": "markdown",
   "metadata": {},
   "source": [
    "### Geometria da torre\n",
    "\n",
    "#### Coordenação de isolamento (seção 9)"
   ]
  },
  {
   "cell_type": "code",
   "execution_count": 8,
   "metadata": {},
   "outputs": [
    {
     "name": "stdout",
     "output_type": "stream",
     "text": [
      "Distâncias para isolamento a frequência industrial: fase-terra 0.80 m, fase-fase 1.34 m.\n"
     ]
    }
   ],
   "source": [
    "# Isolamento na tensão máxima frequência industrial\n",
    "kg = 1.35 * kgfn - 0.35 * kgfn**2\n",
    "dft = nbr5422.espacFTFreqFund(Us=v, Ftmo=ftmo, kaff=1., kgff=kg, zff=0.)\n",
    "kg = 1.35 * kgff - 0.35 * kgff**2\n",
    "dff = nbr5422.espacFFFreqFund(Us=v, Ftmo=ftmo, kaff=1., kgff=kg, zff=0.)\n",
    "print(f\"Distâncias para isolamento a frequência industrial: fase-terra {dft:.2f} m, fase-fase {dff:.2f} m.\")"
   ]
  },
  {
   "cell_type": "code",
   "execution_count": 9,
   "metadata": {},
   "outputs": [
    {
     "name": "stdout",
     "output_type": "stream",
     "text": [
      "Distâncias para isolamento sobretensões frente lenta: fase-terra 2.03 m, fase-fase 1.98 m.\n"
     ]
    }
   ],
   "source": [
    "# Isolamento a sobretensões de frente lenta\n",
    "# Energização\n",
    "kcs = 1.178\n",
    "fsfl = 2.18\n",
    "dft = nbr5422.espacFTFrenteLenta(Us=v, Kcs=kcs, Fsfl=fsfl, kafl=0.93, kg=kgfn)\n",
    "fsfl = 2.7\n",
    "dff = nbr5422.espacFFFrenteLenta(Us=v, Kcs=kcs, Fsfl=fsfl, kafl=0.93, kg=kgff, alpha=alpha)\n",
    "print(f\"Distâncias para isolamento sobretensões frente lenta: fase-terra {dft:.2f} m, fase-fase {dff:.2f} m.\")"
   ]
  },
  {
   "cell_type": "code",
   "execution_count": null,
   "metadata": {},
   "outputs": [
    {
     "name": "stdout",
     "output_type": "stream",
     "text": [
      "Distâncias para isolamento sobretensões frente lenta: fase-terra positiva 3.79 m, negativa 4.04 m, fase-fase 4.31 m.\n"
     ]
    }
   ],
   "source": [
    "# Isolamento a sobretensões de frente rápida\n",
    "bilp = cfop * (1 - 1.28*0.03)\n",
    "biln = cfon * (1 - 1.28*0.03)\n",
    "dftp = nbr5422.espacFTFrenteRapidaPos(bilp, kafr=dra, kg=kgfn) \n",
    "dftn = nbr5422.espacFTFrenteRapidaNeg(biln, kafr=dra, kg=kgfn) \n",
    "dff = nbr5422.espacFFFrenteRapida(bilp, kafr=dra, kg=kgff)\n",
    "print(f\"Distâncias para isolamento sobretensões frente lenta: fase-terra positiva {dftp:.2f} m, negativa {dftn:.2f} m, fase-fase {dff:.2f} m.\")\n"
   ]
  },
  {
   "cell_type": "markdown",
   "metadata": {},
   "source": [
    "#### Levantamento do ponto mais a direita para locação do mastro _cross-rope_"
   ]
  },
  {
   "cell_type": "code",
   "execution_count": null,
   "metadata": {},
   "outputs": [],
   "source": []
  },
  {
   "cell_type": "markdown",
   "metadata": {},
   "source": [
    "#### Esboço da cabeça da torre"
   ]
  },
  {
   "cell_type": "code",
   "execution_count": null,
   "metadata": {},
   "outputs": [
    {
     "data": {
      "image/png": "[encoded data removed]",
      "text/plain": [
       "<Figure size 640x480 with 1 Axes>"
      ]
     },
     "metadata": {},
     "output_type": "display_data"
    }
   ],
   "source": [
    "# Plotagem - torre 525 kV cross-rope\n",
    "\n",
    "# Posição das fases\n",
    "xr = 3\n",
    "x1a = -xr\n",
    "x2a = -xr\n",
    "x3a = -xr\n",
    "x1b = xr\n",
    "x2b = xr\n",
    "x3b = xr\n",
    "# Alturas relativas à fase mais baixa\n",
    "y1a = 0.\n",
    "y2a = 3.\n",
    "y3a = 6.\n",
    "y1b = 0.\n",
    "y2b = 3.\n",
    "y3b = 6.\n",
    "hm = 1.5 # Altura da ancoragem do isolador de suspensao em relacao ao do line post\n",
    "alfa = radians(10.) # Angulo vertical do isolador line post\n",
    "lc = 0.2 # Comprimento da ferragem (m)\n",
    "f = 10. # Flecha (m)\n",
    "h = 10. # clearance (m)\n",
    "# Ângulos de balanço\n",
    "ang1 = radians(25.)\n",
    "ang2 = radians(45.)\n",
    "hbase = h + f + lc\n",
    "y1t = y1a+hbase\n",
    "y2t = y2a+hbase\n",
    "y3t = y3a+hbase\n",
    "\n",
    "# Estrutura\n",
    "ltsup = 1.2\n",
    "ltinf = 1.2\n",
    "ht = y3t + hm + 0.5\n",
    "\n",
    "plt.figure()\n",
    "# Estrutura metalica\n",
    "plt.plot([-ltinf/2, -ltsup/2], [0, ht],'k-')\n",
    "plt.plot([ltinf/2, ltsup/2], [0, ht],'k-')\n",
    "plt.plot([-ltsup/2, ltsup/2], [ht, ht],'k-')\n",
    "# Misulas\n",
    "plt.plot([-ltsup/2, x1a], [y1t, y1t],'g-', linewidth=3)\n",
    "plt.plot([-ltsup/2, x2a], [y2t, y2t],'g-', linewidth=3)\n",
    "plt.plot([-ltsup/2, x3a], [y3t, y3t],'g-', linewidth=3)\n",
    "plt.plot([-ltsup/2, x1a], [y1t+hm, y1t],'g-', linewidth=3)\n",
    "plt.plot([-ltsup/2, x2a], [y2t+hm, y2t],'g-', linewidth=3)\n",
    "plt.plot([-ltsup/2, x3a], [y3t+hm, y3t],'g-', linewidth=3)\n",
    "# Solo\n",
    "plt.plot([-4.5, 4.5], [0, 0],'k-', linewidth=0.5)\n",
    "plt.plot([x1a, x1a], [y1t, y1t-lc],'bo-')\n",
    "plt.plot([x2a, x2a], [y2t, y2t-lc],'bo-')\n",
    "plt.plot([x3a, x3a], [y3t, y3t-lc],'bo-')\n",
    "plt.plot([x1a, x1a], [y1t-0.2, y1t-lc+0.2],'r-')\n",
    "plt.plot([x2a, x2a], [y2t-0.2, y2t-lc+0.2],'r-')\n",
    "plt.plot([x3a, x3a], [y3t-0.2, y3t-lc+0.2],'r-')\n",
    "plt.plot([x1a, x1a+lc*sin(ang1)], [y1t, y1t-lc*cos(ang1)],'ro-')\n",
    "plt.plot([x2a, x2a+lc*sin(ang1)], [y2t, y2t-lc*cos(ang1)],'ro-')\n",
    "plt.plot([x3a, x3a+lc*sin(ang1)], [y3t, y3t-lc*cos(ang1)],'ro-')\n",
    "plt.gca().add_patch(patches.Arc((x1a, y1t), 2*lc, 2*lc, theta1=-90., theta2=degrees(ang1)-90.,lw=0.5,color='r'))\n",
    "plt.gca().add_patch(patches.Arc((x2a, y2t), 2*lc, 2*lc, theta1=-90., theta2=degrees(ang1)-90.,lw=0.5,color='r'))\n",
    "plt.gca().add_patch(patches.Arc((x3a, y3t), 2*lc, 2*lc, theta1=-90., theta2=degrees(ang1)-90.,lw=0.5,color='r'))\n",
    "# Espaçamentos\n",
    "dist1 = 1.\n",
    "dist2 = 2.\n",
    "plt.gca().add_patch(patches.Arc((x1a+lc*sin(ang1), y1t-lc*cos(ang1)), 2*dist1, 2*dist1, theta1=-90., theta2=90.,lw=0.5,color='r'))\n",
    "plt.gca().add_patch(patches.Arc((x2a+lc*sin(ang1), y2t-lc*cos(ang1)), 2*dist1, 2*dist1, theta1=-90., theta2=90.,lw=0.5,color='r'))\n",
    "plt.gca().add_patch(patches.Arc((x3a+lc*sin(ang1), y3t-lc*cos(ang1)), 2*dist1, 2*dist1, theta1=-90., theta2=90.,lw=0.5,color='r'))\n",
    "\n",
    "# teste de cota\n",
    "plot_dimension(plt, (x1a,y1t-lc), (x2a,y2t-lc), offset=1)\n",
    "plot_dimension(plt, (x2a,y2t-lc), (x3a,y3t-lc), offset=1)\n",
    "plot_dimension(plt, (x1a,y1t), (-ltsup/2,y1t), offset=-1.5)\n",
    "plt.axis('equal')\n",
    "plt.gca().set_ylim(18, ht+0.5)\n",
    "plt.show()"
   ]
  },
  {
   "cell_type": "code",
   "execution_count": 6,
   "metadata": {},
   "outputs": [
    {
     "data": {
      "image/png": "[encoded data removed]",
      "text/plain": [
       "<Figure size 640x480 with 1 Axes>"
      ]
     },
     "metadata": {},
     "output_type": "display_data"
    }
   ],
   "source": [
    "# Meio do vão\n",
    "y1mv = y1a + h\n",
    "y2mv = y2a + h\n",
    "y3mv = y3a + h\n",
    "l = f + lc\n",
    "plt.figure()\n",
    "plt.plot([x1a, x1a+l*sin(ang1)], [y1t, y1t-l*cos(ang1)],'ro-')\n",
    "plt.plot([x2a, x2a+l*sin(ang1)], [y2t, y2t-l*cos(ang1)],'ro-')\n",
    "plt.plot([x3a, x3a+l*sin(ang1)], [y3t, y3t-l*cos(ang1)],'ro-')\n",
    "plt.gca().add_patch(patches.Arc((x1a, y1t), 2*l, 2*l, theta1=-90., theta2=degrees(ang1)-90.,lw=0.5,color='r'))\n",
    "plt.gca().add_patch(patches.Arc((x2a, y2t), 2*l, 2*l, theta1=-90., theta2=degrees(ang1)-90.,lw=0.5,color='r'))\n",
    "plt.gca().add_patch(patches.Arc((x3a, y3t), 2*l, 2*l, theta1=-90., theta2=degrees(ang1)-90.,lw=0.5,color='r'))\n",
    "plot_distance_radius(plt, (x1a+l*sin(ang1), y1t-l*cos(ang1)), radius=4.5)\n",
    "plt.axis('equal')\n",
    "plt.show()"
   ]
  },
  {
   "cell_type": "code",
   "execution_count": null,
   "metadata": {},
   "outputs": [],
   "source": []
  }
 ],
 "metadata": {
  "kernelspec": {
   "display_name": ".venv",
   "language": "python",
   "name": "python3"
  },
  "language_info": {
   "codemirror_mode": {
    "name": "ipython",
    "version": 3
   },
   "file_extension": ".py",
   "mimetype": "text/x-python",
   "name": "python",
   "nbconvert_exporter": "python",
   "pygments_lexer": "ipython3",
   "version": "3.13.2"
  }
 },
 "nbformat": 4,
 "nbformat_minor": 4
}
