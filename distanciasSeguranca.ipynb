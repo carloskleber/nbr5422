{
 "cells": [
  {
   "attachments": {},
   "cell_type": "markdown",
   "metadata": {},
   "source": [
    "# Comparação entre distâncias de isolamento"
   ]
  },
  {
   "cell_type": "code",
   "execution_count": 1,
   "metadata": {},
   "outputs": [],
   "source": [
    "from tabulate import tabulate\n",
    "import matplotlib.pyplot as plt\n",
    "import pandas as pd\n",
    "from math import degrees, exp, sqrt\n",
    "from IPython.display import HTML, display\n",
    "from normaslt import types, nbr5422, nbr1985, iec, en\n",
    "from normaslt.cigre import anguloBalancoTB348\n",
    "from normaslt.draw import find_line_start, minDistancePts, plot_dimension, plot_balanco, plot_cadeia, plot_distance_radius, plot_line_pt, xmax\n"
   ]
  },
  {
   "attachments": {},
   "cell_type": "markdown",
   "metadata": {},
   "source": [
    "## Distâncias elétricas para circuitos\n",
    "NBR 5422 - Metodologia proposta\n",
    "$$\n",
    "\\begin{align}\n",
    "d_{ft,ff} & = 1.642 \\left[ \\exp \\left( \\frac{\\frac{U_s}{\\sqrt{3}} \\, F_{tmo}}{750 \\, k_{aff} \\, k_{zff} \\, k_{gff}}\\right) - 1\\right]^{0.83} \\\\\n",
    "d_{ff,ff} & = 1.642 \\left[ \\exp \\left( \\frac{U_s \\, F_{tmo}}{750 \\, k_{aff} \\, k_{zff} \\, k_{gff}}\\right) - 1\\right]^{0.83} \\\\\n",
    "d_{ft,fl} & = 2.174 \\left[ \\exp \\left( \\frac{K_{cs} \\, U_s \\frac{\\sqrt{2}}{\\sqrt{3}} \\, F_{sfl}}{1080 \\, k_{afl} \\, k_{zfl} \\, k_{g}}\\right) - 1\\right] \\\\\n",
    "d_{ff,fl} & = 2.174 \\left[ \\exp \\left( \\frac{1.4 \\, K_{cs} \\, U_s \\frac{\\sqrt{2}}{\\sqrt{3}} \\, F_{sfl}}{1080 \\, k_{afl} \\, k_{zfl} \\, k_{g}}\\right) - 1\\right]\n",
    "\\end{align}\n",
    "$$\n",
    "Sendo para $d_{ff}$ os gaps do tipo \"condutor-condutor\"?"
   ]
  },
  {
   "cell_type": "code",
   "execution_count": 2,
   "metadata": {},
   "outputs": [
    {
     "name": "stderr",
     "output_type": "stream",
     "text": [
      "<>:17: SyntaxWarning: invalid escape sequence '\\('\n",
      "<>:17: SyntaxWarning: invalid escape sequence '\\('\n",
      "/tmp/ipykernel_279562/1542131506.py:17: SyntaxWarning: invalid escape sequence '\\('\n",
      "  ['$U_{max}$', 'Fsfl', '\\(U_{fr}\\)', 'Fase-terra','Fase-terra','Fase-terra','Fase-fase','Fase-fase','Fase-fase'],\n",
      "/tmp/ipykernel_279562/1542131506.py:17: SyntaxWarning: invalid escape sequence '\\('\n",
      "  ['$U_{max}$', 'Fsfl', '\\(U_{fr}\\)', 'Fase-terra','Fase-terra','Fase-terra','Fase-fase','Fase-fase','Fase-fase'],\n"
     ]
    },
    {
     "ename": "AttributeError",
     "evalue": "module 'normaslt.nbr5422' has no attribute 'espacFTFrenteRapida'",
     "output_type": "error",
     "traceback": [
      "\u001b[31m---------------------------------------------------------------------------\u001b[39m",
      "\u001b[31mAttributeError\u001b[39m                            Traceback (most recent call last)",
      "\u001b[36mCell\u001b[39m\u001b[36m \u001b[39m\u001b[32mIn[2]\u001b[39m\u001b[32m, line 24\u001b[39m\n\u001b[32m     22\u001b[39m dftff.append(nbr5422.espacFTFreqFund(Us=vn, Ftmo=ftmo, kaff=ka, kg=kgft))\n\u001b[32m     23\u001b[39m dftfl.append(nbr5422.espacFTFrenteLenta(Us=vn, Kcs=kcs, Fsfl=f, kafl=ka, kg=kgft))\n\u001b[32m---> \u001b[39m\u001b[32m24\u001b[39m dftfr.append(\u001b[43mnbr5422\u001b[49m\u001b[43m.\u001b[49m\u001b[43mespacFTFrenteRapida\u001b[49m(ufr=vf, kafr=ka, kg=kgft))\n\u001b[32m     25\u001b[39m dffff.append(nbr5422.espacFFFreqFund(Us=vn, Ftmo=ftmo, kaff=ka, kg=kgff))\n\u001b[32m     26\u001b[39m dfffl.append(nbr5422.espacFFFrenteLenta(Us=vn, Kcs=kcs, Fsfl=f, kafl=ka, kg=kgff, alpha=alpha))\n",
      "\u001b[31mAttributeError\u001b[39m: module 'normaslt.nbr5422' has no attribute 'espacFTFrenteRapida'"
     ]
    }
   ],
   "source": [
    "vnom = [69, 138, 230, 345, 440, 500, 765, 1000]\n",
    "vmax = [72.5, 145., 242., 362., 460., 550., 800., 1100.]\n",
    "fsfl = [3., 3., 3., 3., 2.4, 2.4, 2., 1.8]\n",
    "vfr = [369., 510., 865., 1220., 1500., 1785., 2495., 3415.] # calculo pelo número de isoladores - planilha João Clavio\n",
    "kgft = 1.45 # condutor-braço\n",
    "ka = 0.95\n",
    "kcs = 1.35\n",
    "alpha = 0.5\n",
    "kgff = 1.52 if alpha == 0.33 else 1.62 # condutor-condutor\n",
    "dftff = []\n",
    "dftfl = []\n",
    "dftfr = []\n",
    "dffff = []\n",
    "dfffl = []\n",
    "dfffr = []\n",
    "idx = pd.MultiIndex.from_arrays([\n",
    "    ['$U_{max}$', 'Fsfl', '\\(U_{fr}\\)', 'Fase-terra','Fase-terra','Fase-terra','Fase-fase','Fase-fase','Fase-fase'],\n",
    "    ['', '', '', '$d_{ff}$','$d_{fl}$','$d_{fr}$','$d_{ff}$','$d_{fl}$','$d_{fr}$']\n",
    "])\n",
    "for vn, vm, vf, f in zip(vnom, vmax, vfr, fsfl):\n",
    "  ftmo=vm/vn\n",
    "  dftff.append(nbr5422.espacFTFreqFund(Us=vn, Ftmo=ftmo, kaff=ka, kg=kgft))\n",
    "  dftfl.append(nbr5422.espacFTFrenteLenta(Us=vn, Kcs=kcs, Fsfl=f, kafl=ka, kg=kgft))\n",
    "  dftfr.append(nbr5422.espacFTFrenteRapida(ufr=vf, kafr=ka, kg=kgft))\n",
    "  dffff.append(nbr5422.espacFFFreqFund(Us=vn, Ftmo=ftmo, kaff=ka, kg=kgff))\n",
    "  dfffl.append(nbr5422.espacFFFrenteLenta(Us=vn, Kcs=kcs, Fsfl=f, kafl=ka, kg=kgff, alpha=alpha))\n",
    "  dfffr.append(nbr5422.espacFFFrenteRapida(ufr=vf, kafr=ka, kg=kgft))\n",
    "\n",
    "df = pd.DataFrame(zip(vmax, fsfl, vfr, dftff, dftfl, dftfr, dffff, dfffl, dfffr),\n",
    "                  pd.Index(vnom),\n",
    "                  columns=idx\n",
    "                  )\n",
    "df.style.format(precision=3).to_latex()\n",
    "\n",
    "#table = zip(vnom, dftff, dftfl, dftfr, dffff, dfffl)\n",
    "#display(HTML('<h2>Método NBR 5422 proposto</h2>'))\n",
    "#display(HTML(tabulate(table, headers=['Vn', 'dftff', 'dftfl', 'dftfr', 'dffff', 'dfffl'], tablefmt='html')))"
   ]
  },
  {
   "attachments": {},
   "cell_type": "markdown",
   "metadata": {},
   "source": [
    "Metodologia IEC 2018, fórmulas originais para obtenção do 50% breakdown voltage for a rod-plane gap, $U_{50RP}$:\n",
    "Frequência industrial:\n",
    "$$\n",
    "\\begin{align}\n",
    "U_{50RP} & = 750 \\sqrt{2} \\ln (1 + 0.55 d_{pf}^{1.2}) \\\\\n",
    "U_{50} & = U_{50RP} (1.35 K - 0.35 K^2)\n",
    "\\end{align}\n",
    "$$\n",
    "Sobretensões de frente lenta:\n",
    "$$\n",
    "\\begin{align}\n",
    "U_{50RP} & = 1080 \\ln (0.46 d_{sf} + 1) \\\\\n",
    "U_{50} & = U_{50RP} \\, K\n",
    "\\end{align}\n",
    "$$\n",
    "Sobretensões de frente rápida:\n",
    "$$\n",
    "\\begin{align}\n",
    "U_{50RP} & = 500 d^{0.6} \\\\\n",
    "U_{50RP} & = 530 d_{ff+} \\\\\n",
    "U_{50} & = U_{50RP} (0.74 + 0.26 K) \\\\\n",
    "U_{50} & = 700 d_{ff-}\n",
    "\\end{align}\n",
    "$$\n",
    "Considerando somente distância para sobretensões positivas.\n",
    "\n",
    "Fórmulas implementadas:\n",
    "$$\n",
    "\\begin{align}\n",
    "d_{ft,ff} & = 1.6458 \\left[ \\exp\\left( \\frac{U_{50RP} (1.35 K - 0.35 K^2)}{750 \\sqrt{2}}\\right)-1\\right]^{0.8333} \\\\\n",
    "U_{50RP,ff} & = \\frac{U_{max}}{\\sqrt{3}} = \\frac{U_s F_{mto}}{\\sqrt{3}}\\\\\n",
    "d_{ft,fl} & = 2.1739 \\left[ \\exp\\left(\\frac{U_{50RP} K}{1080} \\right) - 1\\right] \\\\\n",
    "U_{50RP,fl} & = \\frac{U_s F_{sfl}}{\\sqrt{3}} \\\\\n",
    "d_{ft,fr} & = \\frac{U_{50RP} (0.74+0.26 K)}{530}\n",
    "\\end{align}\n",
    "$$"
   ]
  },
  {
   "cell_type": "code",
   "execution_count": null,
   "metadata": {},
   "outputs": [
    {
     "ename": "NameError",
     "evalue": "name 'kg' is not defined",
     "output_type": "error",
     "traceback": [
      "\u001b[31m---------------------------------------------------------------------------\u001b[39m",
      "\u001b[31mNameError\u001b[39m                                 Traceback (most recent call last)",
      "\u001b[36mCell\u001b[39m\u001b[36m \u001b[39m\u001b[32mIn[3]\u001b[39m\u001b[32m, line 8\u001b[39m\n\u001b[32m      6\u001b[39m \u001b[38;5;28;01mfor\u001b[39;00m vn, vm, vf, f \u001b[38;5;129;01min\u001b[39;00m \u001b[38;5;28mzip\u001b[39m(vnom, vmax, vfr, fsfl):\n\u001b[32m      7\u001b[39m   ftmo=vm/vn\n\u001b[32m----> \u001b[39m\u001b[32m8\u001b[39m   dftff.append(iec.espacPowerFreq(un=vn/sqrt(\u001b[32m3\u001b[39m), ftmo=ftmo, fca=ka, k=\u001b[43mkg\u001b[49m))\n\u001b[32m      9\u001b[39m   dftfl.append(iec.espacSlowFront(u50rp=vn/sqrt(\u001b[32m3\u001b[39m)*f, k=kg))\n\u001b[32m     10\u001b[39m   dftfr.append(iec.espacFastfront(u50rp=vf, k=kg))\n",
      "\u001b[31mNameError\u001b[39m: name 'kg' is not defined"
     ]
    }
   ],
   "source": [
    "dftff = []\n",
    "dftfl = []\n",
    "dftfr = []\n",
    "dffff = []\n",
    "dfffl = []\n",
    "for vn, vm, vf, f in zip(vnom, vmax, vfr, fsfl):\n",
    "  ftmo=vm/vn\n",
    "  dftff.append(iec.espacPowerFreq(un=vn/sqrt(3), ftmo=ftmo, fca=ka, k=kg))\n",
    "  dftfl.append(iec.espacSlowFront(u50rp=vn/sqrt(3)*f, k=kg))\n",
    "  dftfr.append(iec.espacFastfront(u50rp=vf, k=kg))\n",
    "  dffff.append(iec.espacPowerFreq(un=vn, ftmo=ftmo, fca=ka, k=kg))\n",
    "  dfffl.append(iec.espacSlowFront(u50rp=vn*f, k=kg))\n",
    "\n",
    "table = zip(vnom, dftff, dftfl, dftfr, dffff, dfffl)\n",
    "display(HTML('<h2>Método IEC</h2>'))\n",
    "display(HTML(tabulate(table, headers=['Vn', 'dftff', 'dftfl', 'dftfr', 'dffff', 'dfffl'], tablefmt='html')))"
   ]
  },
  {
   "attachments": {},
   "cell_type": "markdown",
   "metadata": {},
   "source": [
    "Metodologia EN 2001"
   ]
  },
  {
   "cell_type": "code",
   "execution_count": 15,
   "metadata": {},
   "outputs": [
    {
     "data": {
      "text/html": [
       "<h2>Método EN</h2>"
      ],
      "text/plain": [
       "<IPython.core.display.HTML object>"
      ]
     },
     "metadata": {},
     "output_type": "display_data"
    },
    {
     "data": {
      "text/html": [
       "<table>\n",
       "<thead>\n",
       "<tr><th style=\"text-align: right;\">  Vn</th><th style=\"text-align: right;\">   dftff</th><th style=\"text-align: right;\">   dftfl</th><th style=\"text-align: right;\">   dftfr</th><th style=\"text-align: right;\">   dffff</th><th style=\"text-align: right;\">    dfffl</th><th style=\"text-align: right;\">  dfffr</th></tr>\n",
       "</thead>\n",
       "<tbody>\n",
       "<tr><td style=\"text-align: right;\">  69</td><td style=\"text-align: right;\">0.15016 </td><td style=\"text-align: right;\">0.40334 </td><td style=\"text-align: right;\">0.947158</td><td style=\"text-align: right;\">0.230764</td><td style=\"text-align: right;\"> 0.584905</td><td style=\"text-align: right;\">1.13659</td></tr>\n",
       "<tr><td style=\"text-align: right;\"> 138</td><td style=\"text-align: right;\">0.273126</td><td style=\"text-align: right;\">0.881514</td><td style=\"text-align: right;\">1.55334 </td><td style=\"text-align: right;\">0.426165</td><td style=\"text-align: right;\"> 1.32718 </td><td style=\"text-align: right;\">1.86401</td></tr>\n",
       "<tr><td style=\"text-align: right;\"> 230</td><td style=\"text-align: right;\">0.430978</td><td style=\"text-align: right;\">1.65985 </td><td style=\"text-align: right;\">2.02692 </td><td style=\"text-align: right;\">0.685742</td><td style=\"text-align: right;\"> 2.63645 </td><td style=\"text-align: right;\">2.4323 </td></tr>\n",
       "<tr><td style=\"text-align: right;\"> 345</td><td style=\"text-align: right;\">0.625875</td><td style=\"text-align: right;\">2.91725 </td><td style=\"text-align: right;\">3.04038 </td><td style=\"text-align: right;\">1.02561 </td><td style=\"text-align: right;\"> 4.98169 </td><td style=\"text-align: right;\">3.64845</td></tr>\n",
       "<tr><td style=\"text-align: right;\"> 440</td><td style=\"text-align: right;\">0.788511</td><td style=\"text-align: right;\">3.00591 </td><td style=\"text-align: right;\">3.50448 </td><td style=\"text-align: right;\">1.3269  </td><td style=\"text-align: right;\"> 5.15677 </td><td style=\"text-align: right;\">4.20538</td></tr>\n",
       "<tr><td style=\"text-align: right;\"> 500</td><td style=\"text-align: right;\">0.942285</td><td style=\"text-align: right;\">3.65697 </td><td style=\"text-align: right;\">3.81705 </td><td style=\"text-align: right;\">1.52906 </td><td style=\"text-align: right;\"> 6.47838 </td><td style=\"text-align: right;\">4.58046</td></tr>\n",
       "<tr><td style=\"text-align: right;\"> 765</td><td style=\"text-align: right;\">1.39948 </td><td style=\"text-align: right;\">5.47447 </td><td style=\"text-align: right;\">5.58823 </td><td style=\"text-align: right;\">2.56057 </td><td style=\"text-align: right;\">10.4764  </td><td style=\"text-align: right;\">6.70588</td></tr>\n",
       "</tbody>\n",
       "</table>"
      ],
      "text/plain": [
       "<IPython.core.display.HTML object>"
      ]
     },
     "metadata": {},
     "output_type": "display_data"
    }
   ],
   "source": [
    "dftff = []\n",
    "dftfl = []\n",
    "dftfr = []\n",
    "dffff = []\n",
    "dfffl = []\n",
    "dfffr = []\n",
    "for vn, vm, vf, f in zip(vnom, vmax, vfr, fsfl):\n",
    "  dftff.append(en.espacPowerFreqEL(us=vm, ka=ka, kg=kg))\n",
    "  dftfl.append(en.espacSlowFrontEL(ue2=vn*f, kcs=1.05, ka=ka, kg=kg))\n",
    "  dftfr.append(en.espacFastfrontEL(u90=vf, ka=ka, kg=kg))\n",
    "  dffff.append(en.espacPowerFreqPP(us=vn, ka=ka, kg=kg))\n",
    "  dfffl.append(en.espacSlowFrontPP(ue2=vn*f, kcs=1.05, ka=ka, kg=kg))\n",
    "  dfffr.append(en.espacFastfrontPP(u90=vf, ka=ka, kg=kg))\n",
    "\n",
    "table = zip(vnom, dftff, dftfl, dftfr, dffff, dfffl, dfffr)\n",
    "display(HTML('<h2>Método EN</h2>'))\n",
    "display(HTML(tabulate(table, headers=['Vn', 'dftff', 'dftfl', 'dftfr', 'dffff', 'dfffl', 'dfffr'], tablefmt='html')))"
   ]
  },
  {
   "attachments": {},
   "cell_type": "markdown",
   "metadata": {},
   "source": [
    "## Distância entre circuitos paralelos\n",
    "Ref. planilha Distâncias de Segurança Rev12.xls:Distâncias_fase_fase"
   ]
  },
  {
   "cell_type": "code",
   "execution_count": 16,
   "metadata": {},
   "outputs": [],
   "source": [
    "def tabFsfl(v: int) -> float:\n",
    "    # Fatores Fs_fl arbitrados na tabela\n",
    "    match v:\n",
    "        case 69 | 138 | 230 | 345:\n",
    "            return 3.\n",
    "        case 440 | 500:\n",
    "            return 2.4\n",
    "        case 765:\n",
    "            return 2.\n",
    "\n",
    "def tabKcs(v: int) -> float:\n",
    "    # Fatores Kcs arbitrados na tabela\n",
    "    match v:\n",
    "        case 69 | 138 | 230 | 345:\n",
    "            return 1.51\n",
    "        case 440 | 500 | 765:\n",
    "            return 1.48\n",
    "\n",
    "vff = [\n",
    "    [765, 69],\n",
    "    [765, 138],\n",
    "    [500, 69],\n",
    "    [500, 138],\n",
    "    [230, 69],\n",
    "    [69, 138],\n",
    "    [69, 345],\n",
    "    [69, 440],\n",
    "    [138, 230],\n",
    "    [138, 345],\n",
    "    [138, 440],\n",
    "    [230, 345],\n",
    "    [230, 440],\n",
    "    [230, 500],\n",
    "    [230, 765],\n",
    "    [345, 440],\n",
    "    [345, 500],\n",
    "    [345, 765],\n",
    "    [440, 500],\n",
    "    [440, 765],\n",
    "    [500, 765]\n",
    "]"
   ]
  },
  {
   "cell_type": "code",
   "execution_count": 7,
   "metadata": {},
   "outputs": [
    {
     "data": {
      "text/html": [
       "<table>\n",
       "<thead>\n",
       "<tr><th>V         </th><th style=\"text-align: right;\">  Vn</th><th style=\"text-align: right;\">  Kcs</th><th style=\"text-align: right;\">  FsFl</th><th style=\"text-align: right;\">  kg</th><th style=\"text-align: right;\">  dff_ff</th><th style=\"text-align: right;\">   dff_fl</th></tr>\n",
       "</thead>\n",
       "<tbody>\n",
       "<tr><td>[765, 69] </td><td style=\"text-align: right;\"> 765</td><td style=\"text-align: right;\"> 1.48</td><td style=\"text-align: right;\">   2  </td><td style=\"text-align: right;\">1.52</td><td style=\"text-align: right;\">2.25133 </td><td style=\"text-align: right;\">nan      </td></tr>\n",
       "<tr><td>[765, 138]</td><td style=\"text-align: right;\"> 765</td><td style=\"text-align: right;\"> 1.48</td><td style=\"text-align: right;\">   2  </td><td style=\"text-align: right;\">1.52</td><td style=\"text-align: right;\">2.25133 </td><td style=\"text-align: right;\">nan      </td></tr>\n",
       "<tr><td>[500, 69] </td><td style=\"text-align: right;\"> 500</td><td style=\"text-align: right;\"> 1.48</td><td style=\"text-align: right;\">   2.4</td><td style=\"text-align: right;\">1.52</td><td style=\"text-align: right;\">1.36512 </td><td style=\"text-align: right;\">nan      </td></tr>\n",
       "<tr><td>[500, 138]</td><td style=\"text-align: right;\"> 500</td><td style=\"text-align: right;\"> 1.48</td><td style=\"text-align: right;\">   2.4</td><td style=\"text-align: right;\">1.52</td><td style=\"text-align: right;\">1.36512 </td><td style=\"text-align: right;\">nan      </td></tr>\n",
       "<tr><td>[230, 69] </td><td style=\"text-align: right;\"> 230</td><td style=\"text-align: right;\"> 1.51</td><td style=\"text-align: right;\">   3  </td><td style=\"text-align: right;\">1.52</td><td style=\"text-align: right;\">0.620294</td><td style=\"text-align: right;\">  2.22438</td></tr>\n",
       "<tr><td>[69, 138] </td><td style=\"text-align: right;\"> 138</td><td style=\"text-align: right;\"> 1.51</td><td style=\"text-align: right;\">   3  </td><td style=\"text-align: right;\">1.52</td><td style=\"text-align: right;\">0.386797</td><td style=\"text-align: right;\">  1.47636</td></tr>\n",
       "<tr><td>[69, 345] </td><td style=\"text-align: right;\"> 345</td><td style=\"text-align: right;\"> 1.51</td><td style=\"text-align: right;\">   3  </td><td style=\"text-align: right;\">1.52</td><td style=\"text-align: right;\">0.922932</td><td style=\"text-align: right;\">  3.71306</td></tr>\n",
       "<tr><td>[69, 440] </td><td style=\"text-align: right;\"> 440</td><td style=\"text-align: right;\"> 1.48</td><td style=\"text-align: right;\">   2.4</td><td style=\"text-align: right;\">1.52</td><td style=\"text-align: right;\">1.1884  </td><td style=\"text-align: right;\">  3.71317</td></tr>\n",
       "<tr><td>[138, 230]</td><td style=\"text-align: right;\"> 230</td><td style=\"text-align: right;\"> 1.51</td><td style=\"text-align: right;\">   3  </td><td style=\"text-align: right;\">1.52</td><td style=\"text-align: right;\">0.620294</td><td style=\"text-align: right;\">  2.22438</td></tr>\n",
       "<tr><td>[138, 345]</td><td style=\"text-align: right;\"> 345</td><td style=\"text-align: right;\"> 1.51</td><td style=\"text-align: right;\">   3  </td><td style=\"text-align: right;\">1.52</td><td style=\"text-align: right;\">0.922932</td><td style=\"text-align: right;\">  3.71306</td></tr>\n",
       "<tr><td>[138, 440]</td><td style=\"text-align: right;\"> 440</td><td style=\"text-align: right;\"> 1.48</td><td style=\"text-align: right;\">   2.4</td><td style=\"text-align: right;\">1.52</td><td style=\"text-align: right;\">1.1884  </td><td style=\"text-align: right;\">  3.71317</td></tr>\n",
       "<tr><td>[230, 345]</td><td style=\"text-align: right;\"> 345</td><td style=\"text-align: right;\"> 1.51</td><td style=\"text-align: right;\">   3  </td><td style=\"text-align: right;\">1.52</td><td style=\"text-align: right;\">0.922932</td><td style=\"text-align: right;\">  3.71306</td></tr>\n",
       "<tr><td>[230, 440]</td><td style=\"text-align: right;\"> 440</td><td style=\"text-align: right;\"> 1.48</td><td style=\"text-align: right;\">   2.4</td><td style=\"text-align: right;\">1.52</td><td style=\"text-align: right;\">1.1884  </td><td style=\"text-align: right;\">  3.71317</td></tr>\n",
       "<tr><td>[230, 500]</td><td style=\"text-align: right;\"> 500</td><td style=\"text-align: right;\"> 1.48</td><td style=\"text-align: right;\">   2.4</td><td style=\"text-align: right;\">1.52</td><td style=\"text-align: right;\">1.36512 </td><td style=\"text-align: right;\">nan      </td></tr>\n",
       "<tr><td>[230, 765]</td><td style=\"text-align: right;\"> 765</td><td style=\"text-align: right;\"> 1.48</td><td style=\"text-align: right;\">   2  </td><td style=\"text-align: right;\">1.52</td><td style=\"text-align: right;\">2.25133 </td><td style=\"text-align: right;\">nan      </td></tr>\n",
       "<tr><td>[345, 440]</td><td style=\"text-align: right;\"> 440</td><td style=\"text-align: right;\"> 1.48</td><td style=\"text-align: right;\">   2.4</td><td style=\"text-align: right;\">1.52</td><td style=\"text-align: right;\">1.1884  </td><td style=\"text-align: right;\">  3.71317</td></tr>\n",
       "<tr><td>[345, 500]</td><td style=\"text-align: right;\"> 500</td><td style=\"text-align: right;\"> 1.48</td><td style=\"text-align: right;\">   2.4</td><td style=\"text-align: right;\">1.52</td><td style=\"text-align: right;\">1.36512 </td><td style=\"text-align: right;\">nan      </td></tr>\n",
       "<tr><td>[345, 765]</td><td style=\"text-align: right;\"> 765</td><td style=\"text-align: right;\"> 1.48</td><td style=\"text-align: right;\">   2  </td><td style=\"text-align: right;\">1.52</td><td style=\"text-align: right;\">2.25133 </td><td style=\"text-align: right;\">nan      </td></tr>\n",
       "<tr><td>[440, 500]</td><td style=\"text-align: right;\"> 500</td><td style=\"text-align: right;\"> 1.48</td><td style=\"text-align: right;\">   2.4</td><td style=\"text-align: right;\">1.52</td><td style=\"text-align: right;\">1.36512 </td><td style=\"text-align: right;\">nan      </td></tr>\n",
       "<tr><td>[440, 765]</td><td style=\"text-align: right;\"> 765</td><td style=\"text-align: right;\"> 1.48</td><td style=\"text-align: right;\">   2  </td><td style=\"text-align: right;\">1.52</td><td style=\"text-align: right;\">2.25133 </td><td style=\"text-align: right;\">nan      </td></tr>\n",
       "<tr><td>[500, 765]</td><td style=\"text-align: right;\"> 765</td><td style=\"text-align: right;\"> 1.48</td><td style=\"text-align: right;\">   2  </td><td style=\"text-align: right;\">1.52</td><td style=\"text-align: right;\">2.25133 </td><td style=\"text-align: right;\">nan      </td></tr>\n",
       "</tbody>\n",
       "</table>"
      ],
      "text/plain": [
       "<IPython.core.display.HTML object>"
      ]
     },
     "metadata": {},
     "output_type": "display_data"
    }
   ],
   "source": [
    "tvm=[]\n",
    "tkcs=[]\n",
    "tfsfl=[]\n",
    "tkg=[]\n",
    "tdffff=[]\n",
    "tdfffl=[]\n",
    "for v in vff:\n",
    "  vm = max(v)\n",
    "  kcs=tabKcs(vm)\n",
    "  fsfl=tabFsfl(vm)\n",
    "  kg=nbr5422.fatorKgFFFrenteLenta(types.gap.CONDUTOR_PARALELO)\n",
    "  tdffff.append(nbr5422.espacFFFreqFund(Us=float(vm), Ftmo=1.1, kaff=0.9, kgff=kg))\n",
    "  tdfffl.append(nbr5422.espacFFFrenteLenta(Us=float(vm), Kcs=kcs, Fsfl=fsfl, kafl=0.95, kg=kg))\n",
    "  tvm.append(vm)\n",
    "  tkcs.append(kcs)\n",
    "  tfsfl.append(fsfl)\n",
    "  tkg.append(kg)\n",
    "\n",
    "table = zip(vff, tvm, tkcs, tfsfl, tkg, tdffff, tdfffl)\n",
    "display(HTML(tabulate(table, headers=['V','Vn', 'Kcs', 'FsFl', 'kg', 'dff_ff', 'dff_fl'], tablefmt='html')))"
   ]
  },
  {
   "cell_type": "code",
   "execution_count": 8,
   "metadata": {},
   "outputs": [
    {
     "name": "stdout",
     "output_type": "stream",
     "text": [
      "834 9.204407676193489 5.528953037057247\n",
      "903 9.728807676193489 6.3123427803182715\n",
      "569 7.190407676193488 3.9611964383128333\n",
      "638 7.714807676193488 4.793914711453032\n",
      "299 5.138407676193489 1.9658351420659779\n",
      "207 4.439207676193488 1.064941592832497\n",
      "414 6.012407676193488 3.3817600717219123\n",
      "509 6.734407676193488 3.2896733377900764\n",
      "368 5.662807676193489 2.7788911599301387\n",
      "483 6.536807676193488 4.3726336282720855\n",
      "578 7.258807676193489 4.066192532517563\n",
      "575 7.236007676193489 5.8474904417211695\n",
      "670 7.958007676193488 5.201408079121558\n",
      "730 8.414007676193489 6.000859237637737\n",
      "995 10.428007676193488 7.420448755292127\n",
      "785 8.832007676193488 6.773325546264284\n",
      "845 9.288007676193487 7.658158764099405\n",
      "1110 11.32 8.90456073185179\n",
      "940 10.010007676193489 9.1465721336855\n",
      "1205 12.270000000000001 10.210911259037026\n",
      "1265 12.870000000000001 11.072456956605922\n"
     ]
    }
   ],
   "source": [
    "# Cálculo pela NBR 5422:1985, método alternativo\n",
    "for v in vff:\n",
    "  vm = v[0]+v[1]\n",
    "  pu=tabFsfl(max(v))\n",
    "  dff1 = nbr1985.distHorizFF(float(vm))\n",
    "  dff2 = nbr1985.distHorizFFAlt(float(vm), pu)\n",
    "  print(vm, dff1, dff2)"
   ]
  },
  {
   "cell_type": "markdown",
   "metadata": {},
   "source": [
    "## Balanço assíncrono - Tutorial TB 348"
   ]
  },
  {
   "cell_type": "code",
   "execution_count": null,
   "metadata": {},
   "outputs": [
    {
     "name": "stdout",
     "output_type": "stream",
     "text": [
      "Ângulo de balanço médio 16.4°, mínimo 16.4º, máximo 16.5º.\n",
      "Epsçamento minimo fase-fase: 3.73 m.\n"
     ]
    }
   ],
   "source": [
    "vnom = 400\n",
    "vmax = 420\n",
    "Usf = 1050 # tensão de impulso frente lenta máxima\n",
    "dcond = 0.03285\n",
    "pcond = 2.11 * 9.8\n",
    "ncond = 2\n",
    "flecha = 20\n",
    "esp = 0.4\n",
    "hCondMed = 20\n",
    "# Vento com tempo de retorno 50 anos, período de integração 5 min, h = 20 m (Tabela 5.3)\n",
    "Vr = 32\n",
    "Lm = 400\n",
    "Lp = Lm\n",
    "lcadeia = 5\n",
    "pcadeia = 300 * 9.8\n",
    "acadeia = 1.5\n",
    "# Pontos de ancoragem (sem consideração de distância condutor-solo)\n",
    "pF1 = (0, 30)\n",
    "pF2 = (6.7, 30)\n",
    "ang1 = anguloBalancoTB348(Vr, dcond, ncond, pcond, pcadeia, acadeia, Lm, Lp, gl=0.8)\n",
    "ang1min, ang1max = nbr5422.anguloBalancoAssincrono(Vr, ang1)\n",
    "ang1 = degrees(ang1)\n",
    "ang1min = degrees(ang1min)\n",
    "ang1max = degrees(ang1max)\n",
    "print(f\"Ângulo de balanço médio {ang1:.1f}°, mínimo {ang1min:.1f}º, máximo {ang1max:.1f}º.\")\n",
    "# Espaçamento conforme TB 72\n",
    "kg = 1.6\n",
    "ka = 1\n",
    "dpp = 2.17 * (exp(1.4 * Usf / (918 * ka * kg)) - 1) \n",
    "print(f\"Epsçamento minimo fase-fase: {dpp:.2f} m.\")\n"
   ]
  },
  {
   "cell_type": "code",
   "execution_count": 5,
   "metadata": {},
   "outputs": [
    {
     "data": {
      "image/png": "[encoded data removed]",
      "text/plain": [
       "<Figure size 1200x800 with 1 Axes>"
      ]
     },
     "metadata": {},
     "output_type": "display_data"
    }
   ],
   "source": [
    "ax = plt.figure()\n",
    "ax.figure.set_size_inches(12, 8)\n",
    "ptsF1 = plot_balanco(plt, pF1, l=lcadeia+flecha, ang=ang1max, angmin=ang1min, angmax=ang1max, nc=ncond, angsc=0, esp=esp, angle_offset=3)\n",
    "ptsF2 = plot_balanco(plt, pF2, l=lcadeia+flecha, ang=ang1min, angmin=ang1min, angmax=ang1max, nc=ncond, angsc=0, esp=esp, angle_offset=3)\n",
    "p1,p2,_ = minDistancePts(ptsF1, ptsF2)\n",
    "plot_dimension(plt, p1, p2, offset=0)\n",
    "plt.axis('equal')\n",
    "plt.show()"
   ]
  },
  {
   "cell_type": "code",
   "execution_count": null,
   "metadata": {},
   "outputs": [
    {
     "name": "stdout",
     "output_type": "stream",
     "text": [
      "Ângulo de balanço médio 5.6°, mínimo 2.5º, máximo 8.6º.\n"
     ]
    }
   ],
   "source": [
    "# Low swing\n",
    "Vr = 16.1\n",
    "ang2 = anguloBalancoTB348(Vr, dcond, ncond, pcond, pcadeia, acadeia, Lm, Lp, gl=0.8)\n",
    "ang2min, ang2max = nbr5422.anguloBalancoAssincrono(Vr, ang2)\n",
    "ang2 = degrees(ang2)\n",
    "ang2min = degrees(ang2min)\n",
    "ang2max = degrees(ang2max)\n",
    "print(f\"Ângulo de balanço médio {ang2:.1f}°, mínimo {ang2min:.1f}º, máximo {ang2max:.1f}º.\")"
   ]
  },
  {
   "cell_type": "code",
   "execution_count": 6,
   "metadata": {},
   "outputs": [
    {
     "data": {
      "image/png": "[encoded data removed]",
      "text/plain": [
       "<Figure size 1200x800 with 1 Axes>"
      ]
     },
     "metadata": {},
     "output_type": "display_data"
    }
   ],
   "source": [
    "ax = plt.figure()\n",
    "ax.figure.set_size_inches(12, 8)\n",
    "ptsF1 = plot_balanco(plt, pF1, l=lcadeia+flecha, ang=ang2max, angmin=ang2min, angmax=ang2max, nc=ncond, angsc=0, esp=esp, angle_offset=3)\n",
    "ptsF2 = plot_balanco(plt, pF2, l=lcadeia+flecha, ang=ang2min, angmin=ang2min, angmax=ang2max, nc=ncond, angsc=0, esp=esp, angle_offset=3)\n",
    "p1,p2,_ = minDistancePts(ptsF1, ptsF2)\n",
    "plot_dimension(plt, p1, p2, offset=0)\n",
    "plt.axis('equal')\n",
    "plt.show()"
   ]
  },
  {
   "cell_type": "code",
   "execution_count": null,
   "metadata": {},
   "outputs": [],
   "source": []
  }
 ],
 "metadata": {
  "kernelspec": {
   "display_name": "Python 3",
   "language": "python",
   "name": "python3"
  },
  "language_info": {
   "codemirror_mode": {
    "name": "ipython",
    "version": 3
   },
   "file_extension": ".py",
   "mimetype": "text/x-python",
   "name": "python",
   "nbconvert_exporter": "python",
   "pygments_lexer": "ipython3",
   "version": "3.12.4"
  }
 },
 "nbformat": 4,
 "nbformat_minor": 4
}
