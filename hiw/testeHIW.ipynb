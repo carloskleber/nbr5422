{
 "cells": [
  {
   "cell_type": "markdown",
   "metadata": {},
   "source": [
    "# Teste modelo HIW"
   ]
  },
  {
   "cell_type": "code",
   "execution_count": 1,
   "metadata": {},
   "outputs": [],
   "source": [
    "# Dados do caso (cap. 5)\n",
    "Lx = 300\n",
    "S = Lx/30\n",
    "E = 5.2e10\n",
    "W = 17.92\n",
    "windArea = 0.022\n",
    "Cd = 1\n",
    "A = 0.7e-4\n",
    "v = 4.\n",
    "h = 43.\n",
    "T0 = W*Lx**2/(8 * S)\n",
    "\n",
    "# Dados do vento (caso 1 - Dbx - reação lingitudinal máxima Rx)\n",
    "Ls = 300\n",
    "Vref = 40\n",
    "D = 2 * Lx\n",
    "R = 1.6 * D\n",
    "theta = 30"
   ]
  },
  {
   "cell_type": "code",
   "execution_count": null,
   "metadata": {},
   "outputs": [],
   "source": []
  }
 ],
 "metadata": {
  "kernelspec": {
   "display_name": "Python 3",
   "language": "python",
   "name": "python3"
  },
  "language_info": {
   "codemirror_mode": {
    "name": "ipython",
    "version": 3
   },
   "file_extension": ".py",
   "mimetype": "text/x-python",
   "name": "python",
   "nbconvert_exporter": "python",
   "pygments_lexer": "ipython3",
   "version": "3.13.1"
  }
 },
 "nbformat": 4,
 "nbformat_minor": 2
}
